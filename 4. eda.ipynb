{
 "cells": [
  {
   "cell_type": "code",
   "execution_count": 1,
   "metadata": {},
   "outputs": [],
   "source": [
    "import pandas as pd\n",
    "import numpy as np\n",
    "import seaborn as sns\n",
    "import scipy.stats as scs\n",
    "import joblib\n",
    "import yaml\n",
    "import matplotlib.pyplot as plt"
   ]
  },
  {
   "cell_type": "markdown",
   "metadata": {},
   "source": [
    "## 1. Import Params"
   ]
  },
  {
   "cell_type": "code",
   "execution_count": 2,
   "metadata": {},
   "outputs": [],
   "source": [
    "params_dir = \"config/config.yaml\""
   ]
  },
  {
   "cell_type": "code",
   "execution_count": 3,
   "metadata": {},
   "outputs": [],
   "source": [
    "def load_params(param_dir):\n",
    "    with open(param_dir, 'r') as file:\n",
    "        params = yaml.safe_load(file)\n",
    "        \n",
    "    return params"
   ]
  },
  {
   "cell_type": "code",
   "execution_count": 4,
   "metadata": {},
   "outputs": [],
   "source": [
    "params = load_params(params_dir)"
   ]
  },
  {
   "cell_type": "code",
   "execution_count": 5,
   "metadata": {},
   "outputs": [
    {
     "data": {
      "text/plain": [
       "{'raw_dataset_file': 'data/raw/ar-2015-2016-xlsb.xlsb',\n",
       " 'train_set_path': ['data/processed/x_train.pkl',\n",
       "  'data/processed/y_train.pkl'],\n",
       " 'valid_set_path': ['data/processed/x_valid.pkl',\n",
       "  'data/processed/y_valid.pkl'],\n",
       " 'test_set_path': ['data/processed/x_test.pkl', 'data/processed/y_test.pkl'],\n",
       " 'train_feng_set_path': ['data/processed/x_train_feng.pkl',\n",
       "  'data/processed/y_train_feng.pkl'],\n",
       " 'valid_feng_set_path': ['data/processed/x_valid_feng.pkl',\n",
       "  'data/processed/y_valid_feng.pkl'],\n",
       " 'test_feng_set_path': ['data/processed/x_test_feng.pkl',\n",
       "  'data/processed/y_test_feng.pkl'],\n",
       " 'raw_dataset_path': 'data/processed/raw_dataset.pkl',\n",
       " 'cleaned_raw_dataset_path': 'data/processed/raw_dataset.pkl',\n",
       " 'production_model_path': 'models/production_model.pkl',\n",
       " 'training_log_path': 'log/training_log.json',\n",
       " 'print_debug': True,\n",
       " 'int32_columns': ['total_number_of_previous_ivf_cycles',\n",
       "  'total_number_of_ivf_pregnancies',\n",
       "  'total_number_of_di_pregnancies',\n",
       "  'total_number_of_live_births_conceived_through_ivf_or_di',\n",
       "  'total_number_of_live_births_conceived_through_ivf',\n",
       "  'total_number_of_live_births_conceived_through_di',\n",
       "  'type_of_infertility_female_primary',\n",
       "  'type_of_infertility_female_secondary',\n",
       "  'type_of_infertility_male_primary',\n",
       "  'type_of_infertility_male_secondary',\n",
       "  'type_of_infertility_couple_primary',\n",
       "  'type_of_infertility_couple_secondary',\n",
       "  'cause_of_infertility_tubal_disease',\n",
       "  'cause_of_infertility_ovulatory_disorder',\n",
       "  'cause_of_infertility_male_factor',\n",
       "  'cause_of_infertility_patient_unexplained',\n",
       "  'cause_of_infertility_endometriosis',\n",
       "  'cause_of_infertility_cervical_factors',\n",
       "  'cause_of_infertility_female_factors',\n",
       "  'cause_of_infertility_partner_sperm_concentration',\n",
       "  'cause_of_infertility_partner_sperm_morphology',\n",
       "  'causes_of_infertility_partner_sperm_motility',\n",
       "  'cause_of_infertility_partner_sperm_immunological_factors',\n",
       "  'stimulation_used',\n",
       "  'fresh_cycle',\n",
       "  'frozen_cycle',\n",
       "  'eggs_thawed',\n",
       "  'fresh_eggs_collected',\n",
       "  'eggs_mixed_with_partner_sperm',\n",
       "  'embryos_transfered',\n",
       "  'year_of_treatment',\n",
       "  'live_birth_occurrence',\n",
       "  'number_of_live_births',\n",
       "  'number_of_foetal_sacs_with_fetal_pulsation'],\n",
       " 'object_columns': ['patient_age_at_treatment',\n",
       "  'total_number_of_previous_cycles_both_ivf_and_di',\n",
       "  'total_number_of_previous_treatments_both_ivf_and_di_at_clinic',\n",
       "  'total_number_of_previous_di_cycles',\n",
       "  'total_number_of_previous_pregnancies_both_ivf_and_di',\n",
       "  'main_reason_for_producing_embroys_storing_eggs',\n",
       "  'type_of_ovulation_induction',\n",
       "  'egg_donor_age_at_registration',\n",
       "  'sperm_donor_age_at_registration',\n",
       "  'type_of_treatment_ivf_or_di',\n",
       "  'specific_treatment_type',\n",
       "  'egg_source',\n",
       "  'sperm_from',\n",
       "  'total_eggs_mixed',\n",
       "  'eggs_mixed_with_donor_sperm',\n",
       "  'total_embryos_created',\n",
       "  'eggs_microinjected',\n",
       "  'early_outcome',\n",
       "  'heart_one_weeks_gestation',\n",
       "  'heart_one_birth_outcome',\n",
       "  'heart_one_birth_weight',\n",
       "  'heart_onesex',\n",
       "  'heart_two_weeks_gestation',\n",
       "  'heart_two_birth_outcome',\n",
       "  'heart_two_birth_weight',\n",
       "  'heart_two_sex',\n",
       "  'heart_three_weeks_gestation',\n",
       "  'heart_three_birth_outcome',\n",
       "  'heart_three_birth_weight',\n",
       "  'heart_three_sex',\n",
       "  'heart_four_weeks_gestation',\n",
       "  'heart_four_birth_outcome',\n",
       "  'heart_four_birth_weight',\n",
       "  'heart_four_sex'],\n",
       " 'label': 'live_birth_occurrence',\n",
       " 'predictors': ['patient_age_at_treatment',\n",
       "  'total_number_of_previous_ivf_cycles',\n",
       "  'total_number_of_ivf_pregnancies',\n",
       "  'total_number_of_live_births_conceived_through_ivf',\n",
       "  'type_of_infertility_female_primary',\n",
       "  'type_of_infertility_female_secondary',\n",
       "  'type_of_infertility_male_primary',\n",
       "  'type_of_infertility_male_secondary',\n",
       "  'type_of_infertility_couple_primary',\n",
       "  'type_of_infertility_couple_secondary',\n",
       "  'cause_of_infertility_tubal_disease',\n",
       "  'cause_of_infertility_ovulatory_disorder',\n",
       "  'cause_of_infertility_male_factor',\n",
       "  'cause_of_infertility_patient_unexplained',\n",
       "  'cause_of_infertility_endometriosis',\n",
       "  'cause_of_infertility_cervical_factors',\n",
       "  'cause_of_infertility_female_factors',\n",
       "  'cause_of_infertility_partner_sperm_concentration',\n",
       "  'cause_of_infertility_partner_sperm_morphology',\n",
       "  'causes_of_infertility_partner_sperm_motility',\n",
       "  'cause_of_infertility_partner_sperm_immunological_factors',\n",
       "  'stimulation_used',\n",
       "  'fresh_cycle',\n",
       "  'frozen_cycle',\n",
       "  'eggs_thawed',\n",
       "  'fresh_eggs_collected',\n",
       "  'eggs_mixed_with_partner_sperm',\n",
       "  'embryos_transfered'],\n",
       " 'range_total_number_of_previous_ivf_cycles': [0, 20],\n",
       " 'range_total_number_of_ivf_pregnancies': [0, 20],\n",
       " 'range_total_number_of_live_births_conceived_through_ivf': [0, 20],\n",
       " 'range_type_of_infertility_female_primary': [0, 1],\n",
       " 'range_type_of_infertility_female_secondary': [0, 1],\n",
       " 'range_type_of_infertility_male_primary': [0, 1],\n",
       " 'range_type_of_infertility_male_secondary': [0, 1],\n",
       " 'range_type_of_infertility_couple_primary': [0, 1],\n",
       " 'range_type_of_infertility_couple_secondary': [0, 1],\n",
       " 'range_cause_of_infertility_tubal_disease': [0, 1],\n",
       " 'range_cause_of_infertility_ovulatory_disorder': [0, 1],\n",
       " 'range_cause_of_infertility_male_factor': [0, 1],\n",
       " 'range_cause_of_infertility_patient_unexplained': [0, 1],\n",
       " 'range_cause_of_infertility_endometriosis': [0, 1],\n",
       " 'range_cause_of_infertility_cervical_factors': [0, 1],\n",
       " 'range_cause_of_infertility_female_factors': [0, 1],\n",
       " 'range_cause_of_infertility_partner_sperm_concentration': [0, 1],\n",
       " 'range_cause_of_infertility_partner_sperm_morphology': [0, 1],\n",
       " 'range_causes_of_infertility_partner_sperm_motility': [0, 1],\n",
       " 'range_cause_of_infertility_partner_sperm_immunological_factors': [0, 1],\n",
       " 'range_stimulation_used': [0, 1],\n",
       " 'range_fresh_cycle': [0, 1],\n",
       " 'range_frozen_cycle': [0, 1],\n",
       " 'range_eggs_thawed': [0, 100],\n",
       " 'range_fresh_eggs_collected': [0, 100],\n",
       " 'range_eggs_mixed_with_partner_sperm': [0, 100],\n",
       " 'range_embryos_transfered': [0, 10]}"
      ]
     },
     "execution_count": 5,
     "metadata": {},
     "output_type": "execute_result"
    }
   ],
   "source": [
    "params"
   ]
  },
  {
   "cell_type": "markdown",
   "metadata": {},
   "source": [
    "## 2. Load Train Set"
   ]
  },
  {
   "cell_type": "code",
   "execution_count": 6,
   "metadata": {},
   "outputs": [],
   "source": [
    "x_train = joblib.load(\"data/processed/x_train.pkl\")\n",
    "y_train = joblib.load(\"data/processed/y_train.pkl\")"
   ]
  },
  {
   "cell_type": "code",
   "execution_count": 7,
   "metadata": {},
   "outputs": [
    {
     "data": {
      "text/html": [
       "<div>\n",
       "<style scoped>\n",
       "    .dataframe tbody tr th:only-of-type {\n",
       "        vertical-align: middle;\n",
       "    }\n",
       "\n",
       "    .dataframe tbody tr th {\n",
       "        vertical-align: top;\n",
       "    }\n",
       "\n",
       "    .dataframe thead th {\n",
       "        text-align: right;\n",
       "    }\n",
       "</style>\n",
       "<table border=\"1\" class=\"dataframe\">\n",
       "  <thead>\n",
       "    <tr style=\"text-align: right;\">\n",
       "      <th></th>\n",
       "      <th>patient_age_at_treatment</th>\n",
       "      <th>total_number_of_previous_ivf_cycles</th>\n",
       "      <th>total_number_of_ivf_pregnancies</th>\n",
       "      <th>total_number_of_live_births_conceived_through_ivf</th>\n",
       "      <th>type_of_infertility_female_primary</th>\n",
       "      <th>type_of_infertility_female_secondary</th>\n",
       "      <th>type_of_infertility_male_primary</th>\n",
       "      <th>type_of_infertility_male_secondary</th>\n",
       "      <th>type_of_infertility_couple_primary</th>\n",
       "      <th>type_of_infertility_couple_secondary</th>\n",
       "      <th>...</th>\n",
       "      <th>cause_of_infertility_partner_sperm_morphology</th>\n",
       "      <th>causes_of_infertility_partner_sperm_motility</th>\n",
       "      <th>cause_of_infertility_partner_sperm_immunological_factors</th>\n",
       "      <th>stimulation_used</th>\n",
       "      <th>fresh_cycle</th>\n",
       "      <th>frozen_cycle</th>\n",
       "      <th>eggs_thawed</th>\n",
       "      <th>fresh_eggs_collected</th>\n",
       "      <th>eggs_mixed_with_partner_sperm</th>\n",
       "      <th>embryos_transfered</th>\n",
       "    </tr>\n",
       "  </thead>\n",
       "  <tbody>\n",
       "    <tr>\n",
       "      <th>54320</th>\n",
       "      <td>18 - 34</td>\n",
       "      <td>1</td>\n",
       "      <td>1</td>\n",
       "      <td>1</td>\n",
       "      <td>0</td>\n",
       "      <td>0</td>\n",
       "      <td>0</td>\n",
       "      <td>0</td>\n",
       "      <td>0</td>\n",
       "      <td>0</td>\n",
       "      <td>...</td>\n",
       "      <td>0</td>\n",
       "      <td>0</td>\n",
       "      <td>0</td>\n",
       "      <td>0</td>\n",
       "      <td>0</td>\n",
       "      <td>1</td>\n",
       "      <td>0</td>\n",
       "      <td>0</td>\n",
       "      <td>0</td>\n",
       "      <td>2</td>\n",
       "    </tr>\n",
       "    <tr>\n",
       "      <th>113003</th>\n",
       "      <td>18 - 34</td>\n",
       "      <td>1</td>\n",
       "      <td>1</td>\n",
       "      <td>1</td>\n",
       "      <td>0</td>\n",
       "      <td>0</td>\n",
       "      <td>0</td>\n",
       "      <td>0</td>\n",
       "      <td>0</td>\n",
       "      <td>0</td>\n",
       "      <td>...</td>\n",
       "      <td>0</td>\n",
       "      <td>0</td>\n",
       "      <td>0</td>\n",
       "      <td>0</td>\n",
       "      <td>0</td>\n",
       "      <td>1</td>\n",
       "      <td>0</td>\n",
       "      <td>0</td>\n",
       "      <td>0</td>\n",
       "      <td>1</td>\n",
       "    </tr>\n",
       "    <tr>\n",
       "      <th>102142</th>\n",
       "      <td>18 - 34</td>\n",
       "      <td>0</td>\n",
       "      <td>0</td>\n",
       "      <td>0</td>\n",
       "      <td>0</td>\n",
       "      <td>0</td>\n",
       "      <td>0</td>\n",
       "      <td>0</td>\n",
       "      <td>0</td>\n",
       "      <td>0</td>\n",
       "      <td>...</td>\n",
       "      <td>0</td>\n",
       "      <td>0</td>\n",
       "      <td>0</td>\n",
       "      <td>1</td>\n",
       "      <td>1</td>\n",
       "      <td>0</td>\n",
       "      <td>0</td>\n",
       "      <td>15</td>\n",
       "      <td>15</td>\n",
       "      <td>0</td>\n",
       "    </tr>\n",
       "    <tr>\n",
       "      <th>25450</th>\n",
       "      <td>18 - 34</td>\n",
       "      <td>0</td>\n",
       "      <td>0</td>\n",
       "      <td>0</td>\n",
       "      <td>0</td>\n",
       "      <td>0</td>\n",
       "      <td>0</td>\n",
       "      <td>0</td>\n",
       "      <td>0</td>\n",
       "      <td>0</td>\n",
       "      <td>...</td>\n",
       "      <td>0</td>\n",
       "      <td>0</td>\n",
       "      <td>0</td>\n",
       "      <td>1</td>\n",
       "      <td>1</td>\n",
       "      <td>0</td>\n",
       "      <td>0</td>\n",
       "      <td>24</td>\n",
       "      <td>0</td>\n",
       "      <td>0</td>\n",
       "    </tr>\n",
       "    <tr>\n",
       "      <th>10759</th>\n",
       "      <td>18 - 34</td>\n",
       "      <td>2</td>\n",
       "      <td>0</td>\n",
       "      <td>0</td>\n",
       "      <td>0</td>\n",
       "      <td>0</td>\n",
       "      <td>0</td>\n",
       "      <td>0</td>\n",
       "      <td>0</td>\n",
       "      <td>0</td>\n",
       "      <td>...</td>\n",
       "      <td>0</td>\n",
       "      <td>0</td>\n",
       "      <td>0</td>\n",
       "      <td>1</td>\n",
       "      <td>1</td>\n",
       "      <td>0</td>\n",
       "      <td>0</td>\n",
       "      <td>6</td>\n",
       "      <td>6</td>\n",
       "      <td>1</td>\n",
       "    </tr>\n",
       "    <tr>\n",
       "      <th>...</th>\n",
       "      <td>...</td>\n",
       "      <td>...</td>\n",
       "      <td>...</td>\n",
       "      <td>...</td>\n",
       "      <td>...</td>\n",
       "      <td>...</td>\n",
       "      <td>...</td>\n",
       "      <td>...</td>\n",
       "      <td>...</td>\n",
       "      <td>...</td>\n",
       "      <td>...</td>\n",
       "      <td>...</td>\n",
       "      <td>...</td>\n",
       "      <td>...</td>\n",
       "      <td>...</td>\n",
       "      <td>...</td>\n",
       "      <td>...</td>\n",
       "      <td>...</td>\n",
       "      <td>...</td>\n",
       "      <td>...</td>\n",
       "      <td>...</td>\n",
       "    </tr>\n",
       "    <tr>\n",
       "      <th>100569</th>\n",
       "      <td>43-44</td>\n",
       "      <td>3</td>\n",
       "      <td>0</td>\n",
       "      <td>0</td>\n",
       "      <td>0</td>\n",
       "      <td>0</td>\n",
       "      <td>0</td>\n",
       "      <td>0</td>\n",
       "      <td>0</td>\n",
       "      <td>0</td>\n",
       "      <td>...</td>\n",
       "      <td>0</td>\n",
       "      <td>0</td>\n",
       "      <td>0</td>\n",
       "      <td>0</td>\n",
       "      <td>1</td>\n",
       "      <td>0</td>\n",
       "      <td>0</td>\n",
       "      <td>1</td>\n",
       "      <td>1</td>\n",
       "      <td>1</td>\n",
       "    </tr>\n",
       "    <tr>\n",
       "      <th>86857</th>\n",
       "      <td>18 - 34</td>\n",
       "      <td>1</td>\n",
       "      <td>0</td>\n",
       "      <td>0</td>\n",
       "      <td>0</td>\n",
       "      <td>0</td>\n",
       "      <td>0</td>\n",
       "      <td>0</td>\n",
       "      <td>0</td>\n",
       "      <td>0</td>\n",
       "      <td>...</td>\n",
       "      <td>0</td>\n",
       "      <td>0</td>\n",
       "      <td>0</td>\n",
       "      <td>1</td>\n",
       "      <td>1</td>\n",
       "      <td>0</td>\n",
       "      <td>0</td>\n",
       "      <td>17</td>\n",
       "      <td>16</td>\n",
       "      <td>2</td>\n",
       "    </tr>\n",
       "    <tr>\n",
       "      <th>156415</th>\n",
       "      <td>35-37</td>\n",
       "      <td>0</td>\n",
       "      <td>0</td>\n",
       "      <td>0</td>\n",
       "      <td>0</td>\n",
       "      <td>0</td>\n",
       "      <td>0</td>\n",
       "      <td>0</td>\n",
       "      <td>0</td>\n",
       "      <td>0</td>\n",
       "      <td>...</td>\n",
       "      <td>0</td>\n",
       "      <td>0</td>\n",
       "      <td>0</td>\n",
       "      <td>1</td>\n",
       "      <td>0</td>\n",
       "      <td>0</td>\n",
       "      <td>0</td>\n",
       "      <td>0</td>\n",
       "      <td>0</td>\n",
       "      <td>0</td>\n",
       "    </tr>\n",
       "    <tr>\n",
       "      <th>58418</th>\n",
       "      <td>18 - 34</td>\n",
       "      <td>0</td>\n",
       "      <td>0</td>\n",
       "      <td>0</td>\n",
       "      <td>0</td>\n",
       "      <td>0</td>\n",
       "      <td>0</td>\n",
       "      <td>0</td>\n",
       "      <td>0</td>\n",
       "      <td>0</td>\n",
       "      <td>...</td>\n",
       "      <td>0</td>\n",
       "      <td>0</td>\n",
       "      <td>0</td>\n",
       "      <td>1</td>\n",
       "      <td>1</td>\n",
       "      <td>0</td>\n",
       "      <td>0</td>\n",
       "      <td>8</td>\n",
       "      <td>4</td>\n",
       "      <td>2</td>\n",
       "    </tr>\n",
       "    <tr>\n",
       "      <th>138482</th>\n",
       "      <td>43-44</td>\n",
       "      <td>0</td>\n",
       "      <td>0</td>\n",
       "      <td>0</td>\n",
       "      <td>0</td>\n",
       "      <td>0</td>\n",
       "      <td>0</td>\n",
       "      <td>0</td>\n",
       "      <td>0</td>\n",
       "      <td>0</td>\n",
       "      <td>...</td>\n",
       "      <td>0</td>\n",
       "      <td>0</td>\n",
       "      <td>0</td>\n",
       "      <td>1</td>\n",
       "      <td>1</td>\n",
       "      <td>0</td>\n",
       "      <td>0</td>\n",
       "      <td>1</td>\n",
       "      <td>1</td>\n",
       "      <td>1</td>\n",
       "    </tr>\n",
       "  </tbody>\n",
       "</table>\n",
       "<p>109287 rows × 28 columns</p>\n",
       "</div>"
      ],
      "text/plain": [
       "       patient_age_at_treatment  total_number_of_previous_ivf_cycles  \\\n",
       "54320                   18 - 34                                    1   \n",
       "113003                  18 - 34                                    1   \n",
       "102142                  18 - 34                                    0   \n",
       "25450                   18 - 34                                    0   \n",
       "10759                   18 - 34                                    2   \n",
       "...                         ...                                  ...   \n",
       "100569                    43-44                                    3   \n",
       "86857                   18 - 34                                    1   \n",
       "156415                    35-37                                    0   \n",
       "58418                   18 - 34                                    0   \n",
       "138482                    43-44                                    0   \n",
       "\n",
       "        total_number_of_ivf_pregnancies  \\\n",
       "54320                                 1   \n",
       "113003                                1   \n",
       "102142                                0   \n",
       "25450                                 0   \n",
       "10759                                 0   \n",
       "...                                 ...   \n",
       "100569                                0   \n",
       "86857                                 0   \n",
       "156415                                0   \n",
       "58418                                 0   \n",
       "138482                                0   \n",
       "\n",
       "        total_number_of_live_births_conceived_through_ivf  \\\n",
       "54320                                                   1   \n",
       "113003                                                  1   \n",
       "102142                                                  0   \n",
       "25450                                                   0   \n",
       "10759                                                   0   \n",
       "...                                                   ...   \n",
       "100569                                                  0   \n",
       "86857                                                   0   \n",
       "156415                                                  0   \n",
       "58418                                                   0   \n",
       "138482                                                  0   \n",
       "\n",
       "        type_of_infertility_female_primary  \\\n",
       "54320                                    0   \n",
       "113003                                   0   \n",
       "102142                                   0   \n",
       "25450                                    0   \n",
       "10759                                    0   \n",
       "...                                    ...   \n",
       "100569                                   0   \n",
       "86857                                    0   \n",
       "156415                                   0   \n",
       "58418                                    0   \n",
       "138482                                   0   \n",
       "\n",
       "        type_of_infertility_female_secondary  \\\n",
       "54320                                      0   \n",
       "113003                                     0   \n",
       "102142                                     0   \n",
       "25450                                      0   \n",
       "10759                                      0   \n",
       "...                                      ...   \n",
       "100569                                     0   \n",
       "86857                                      0   \n",
       "156415                                     0   \n",
       "58418                                      0   \n",
       "138482                                     0   \n",
       "\n",
       "        type_of_infertility_male_primary  type_of_infertility_male_secondary  \\\n",
       "54320                                  0                                   0   \n",
       "113003                                 0                                   0   \n",
       "102142                                 0                                   0   \n",
       "25450                                  0                                   0   \n",
       "10759                                  0                                   0   \n",
       "...                                  ...                                 ...   \n",
       "100569                                 0                                   0   \n",
       "86857                                  0                                   0   \n",
       "156415                                 0                                   0   \n",
       "58418                                  0                                   0   \n",
       "138482                                 0                                   0   \n",
       "\n",
       "        type_of_infertility_couple_primary  \\\n",
       "54320                                    0   \n",
       "113003                                   0   \n",
       "102142                                   0   \n",
       "25450                                    0   \n",
       "10759                                    0   \n",
       "...                                    ...   \n",
       "100569                                   0   \n",
       "86857                                    0   \n",
       "156415                                   0   \n",
       "58418                                    0   \n",
       "138482                                   0   \n",
       "\n",
       "        type_of_infertility_couple_secondary  ...  \\\n",
       "54320                                      0  ...   \n",
       "113003                                     0  ...   \n",
       "102142                                     0  ...   \n",
       "25450                                      0  ...   \n",
       "10759                                      0  ...   \n",
       "...                                      ...  ...   \n",
       "100569                                     0  ...   \n",
       "86857                                      0  ...   \n",
       "156415                                     0  ...   \n",
       "58418                                      0  ...   \n",
       "138482                                     0  ...   \n",
       "\n",
       "        cause_of_infertility_partner_sperm_morphology  \\\n",
       "54320                                               0   \n",
       "113003                                              0   \n",
       "102142                                              0   \n",
       "25450                                               0   \n",
       "10759                                               0   \n",
       "...                                               ...   \n",
       "100569                                              0   \n",
       "86857                                               0   \n",
       "156415                                              0   \n",
       "58418                                               0   \n",
       "138482                                              0   \n",
       "\n",
       "        causes_of_infertility_partner_sperm_motility  \\\n",
       "54320                                              0   \n",
       "113003                                             0   \n",
       "102142                                             0   \n",
       "25450                                              0   \n",
       "10759                                              0   \n",
       "...                                              ...   \n",
       "100569                                             0   \n",
       "86857                                              0   \n",
       "156415                                             0   \n",
       "58418                                              0   \n",
       "138482                                             0   \n",
       "\n",
       "        cause_of_infertility_partner_sperm_immunological_factors  \\\n",
       "54320                                                   0          \n",
       "113003                                                  0          \n",
       "102142                                                  0          \n",
       "25450                                                   0          \n",
       "10759                                                   0          \n",
       "...                                                   ...          \n",
       "100569                                                  0          \n",
       "86857                                                   0          \n",
       "156415                                                  0          \n",
       "58418                                                   0          \n",
       "138482                                                  0          \n",
       "\n",
       "        stimulation_used  fresh_cycle  frozen_cycle  eggs_thawed  \\\n",
       "54320                  0            0             1            0   \n",
       "113003                 0            0             1            0   \n",
       "102142                 1            1             0            0   \n",
       "25450                  1            1             0            0   \n",
       "10759                  1            1             0            0   \n",
       "...                  ...          ...           ...          ...   \n",
       "100569                 0            1             0            0   \n",
       "86857                  1            1             0            0   \n",
       "156415                 1            0             0            0   \n",
       "58418                  1            1             0            0   \n",
       "138482                 1            1             0            0   \n",
       "\n",
       "        fresh_eggs_collected  eggs_mixed_with_partner_sperm  \\\n",
       "54320                      0                              0   \n",
       "113003                     0                              0   \n",
       "102142                    15                             15   \n",
       "25450                     24                              0   \n",
       "10759                      6                              6   \n",
       "...                      ...                            ...   \n",
       "100569                     1                              1   \n",
       "86857                     17                             16   \n",
       "156415                     0                              0   \n",
       "58418                      8                              4   \n",
       "138482                     1                              1   \n",
       "\n",
       "        embryos_transfered  \n",
       "54320                    2  \n",
       "113003                   1  \n",
       "102142                   0  \n",
       "25450                    0  \n",
       "10759                    1  \n",
       "...                    ...  \n",
       "100569                   1  \n",
       "86857                    2  \n",
       "156415                   0  \n",
       "58418                    2  \n",
       "138482                   1  \n",
       "\n",
       "[109287 rows x 28 columns]"
      ]
     },
     "execution_count": 7,
     "metadata": {},
     "output_type": "execute_result"
    }
   ],
   "source": [
    "x_train"
   ]
  },
  {
   "cell_type": "code",
   "execution_count": 8,
   "metadata": {},
   "outputs": [
    {
     "data": {
      "text/plain": [
       "54320     0\n",
       "113003    0\n",
       "102142    0\n",
       "25450     0\n",
       "10759     0\n",
       "         ..\n",
       "100569    0\n",
       "86857     1\n",
       "156415    0\n",
       "58418     1\n",
       "138482    0\n",
       "Name: live_birth_occurrence, Length: 109287, dtype: int64"
      ]
     },
     "execution_count": 8,
     "metadata": {},
     "output_type": "execute_result"
    }
   ],
   "source": [
    "y_train"
   ]
  },
  {
   "cell_type": "code",
   "execution_count": 9,
   "metadata": {},
   "outputs": [],
   "source": [
    "dataset = pd.concat([x_train, y_train], axis = 1)"
   ]
  },
  {
   "cell_type": "code",
   "execution_count": 10,
   "metadata": {},
   "outputs": [
    {
     "data": {
      "text/html": [
       "<div>\n",
       "<style scoped>\n",
       "    .dataframe tbody tr th:only-of-type {\n",
       "        vertical-align: middle;\n",
       "    }\n",
       "\n",
       "    .dataframe tbody tr th {\n",
       "        vertical-align: top;\n",
       "    }\n",
       "\n",
       "    .dataframe thead th {\n",
       "        text-align: right;\n",
       "    }\n",
       "</style>\n",
       "<table border=\"1\" class=\"dataframe\">\n",
       "  <thead>\n",
       "    <tr style=\"text-align: right;\">\n",
       "      <th></th>\n",
       "      <th>patient_age_at_treatment</th>\n",
       "      <th>total_number_of_previous_ivf_cycles</th>\n",
       "      <th>total_number_of_ivf_pregnancies</th>\n",
       "      <th>total_number_of_live_births_conceived_through_ivf</th>\n",
       "      <th>type_of_infertility_female_primary</th>\n",
       "      <th>type_of_infertility_female_secondary</th>\n",
       "      <th>type_of_infertility_male_primary</th>\n",
       "      <th>type_of_infertility_male_secondary</th>\n",
       "      <th>type_of_infertility_couple_primary</th>\n",
       "      <th>type_of_infertility_couple_secondary</th>\n",
       "      <th>...</th>\n",
       "      <th>causes_of_infertility_partner_sperm_motility</th>\n",
       "      <th>cause_of_infertility_partner_sperm_immunological_factors</th>\n",
       "      <th>stimulation_used</th>\n",
       "      <th>fresh_cycle</th>\n",
       "      <th>frozen_cycle</th>\n",
       "      <th>eggs_thawed</th>\n",
       "      <th>fresh_eggs_collected</th>\n",
       "      <th>eggs_mixed_with_partner_sperm</th>\n",
       "      <th>embryos_transfered</th>\n",
       "      <th>live_birth_occurrence</th>\n",
       "    </tr>\n",
       "  </thead>\n",
       "  <tbody>\n",
       "    <tr>\n",
       "      <th>54320</th>\n",
       "      <td>18 - 34</td>\n",
       "      <td>1</td>\n",
       "      <td>1</td>\n",
       "      <td>1</td>\n",
       "      <td>0</td>\n",
       "      <td>0</td>\n",
       "      <td>0</td>\n",
       "      <td>0</td>\n",
       "      <td>0</td>\n",
       "      <td>0</td>\n",
       "      <td>...</td>\n",
       "      <td>0</td>\n",
       "      <td>0</td>\n",
       "      <td>0</td>\n",
       "      <td>0</td>\n",
       "      <td>1</td>\n",
       "      <td>0</td>\n",
       "      <td>0</td>\n",
       "      <td>0</td>\n",
       "      <td>2</td>\n",
       "      <td>0</td>\n",
       "    </tr>\n",
       "    <tr>\n",
       "      <th>113003</th>\n",
       "      <td>18 - 34</td>\n",
       "      <td>1</td>\n",
       "      <td>1</td>\n",
       "      <td>1</td>\n",
       "      <td>0</td>\n",
       "      <td>0</td>\n",
       "      <td>0</td>\n",
       "      <td>0</td>\n",
       "      <td>0</td>\n",
       "      <td>0</td>\n",
       "      <td>...</td>\n",
       "      <td>0</td>\n",
       "      <td>0</td>\n",
       "      <td>0</td>\n",
       "      <td>0</td>\n",
       "      <td>1</td>\n",
       "      <td>0</td>\n",
       "      <td>0</td>\n",
       "      <td>0</td>\n",
       "      <td>1</td>\n",
       "      <td>0</td>\n",
       "    </tr>\n",
       "    <tr>\n",
       "      <th>102142</th>\n",
       "      <td>18 - 34</td>\n",
       "      <td>0</td>\n",
       "      <td>0</td>\n",
       "      <td>0</td>\n",
       "      <td>0</td>\n",
       "      <td>0</td>\n",
       "      <td>0</td>\n",
       "      <td>0</td>\n",
       "      <td>0</td>\n",
       "      <td>0</td>\n",
       "      <td>...</td>\n",
       "      <td>0</td>\n",
       "      <td>0</td>\n",
       "      <td>1</td>\n",
       "      <td>1</td>\n",
       "      <td>0</td>\n",
       "      <td>0</td>\n",
       "      <td>15</td>\n",
       "      <td>15</td>\n",
       "      <td>0</td>\n",
       "      <td>0</td>\n",
       "    </tr>\n",
       "    <tr>\n",
       "      <th>25450</th>\n",
       "      <td>18 - 34</td>\n",
       "      <td>0</td>\n",
       "      <td>0</td>\n",
       "      <td>0</td>\n",
       "      <td>0</td>\n",
       "      <td>0</td>\n",
       "      <td>0</td>\n",
       "      <td>0</td>\n",
       "      <td>0</td>\n",
       "      <td>0</td>\n",
       "      <td>...</td>\n",
       "      <td>0</td>\n",
       "      <td>0</td>\n",
       "      <td>1</td>\n",
       "      <td>1</td>\n",
       "      <td>0</td>\n",
       "      <td>0</td>\n",
       "      <td>24</td>\n",
       "      <td>0</td>\n",
       "      <td>0</td>\n",
       "      <td>0</td>\n",
       "    </tr>\n",
       "    <tr>\n",
       "      <th>10759</th>\n",
       "      <td>18 - 34</td>\n",
       "      <td>2</td>\n",
       "      <td>0</td>\n",
       "      <td>0</td>\n",
       "      <td>0</td>\n",
       "      <td>0</td>\n",
       "      <td>0</td>\n",
       "      <td>0</td>\n",
       "      <td>0</td>\n",
       "      <td>0</td>\n",
       "      <td>...</td>\n",
       "      <td>0</td>\n",
       "      <td>0</td>\n",
       "      <td>1</td>\n",
       "      <td>1</td>\n",
       "      <td>0</td>\n",
       "      <td>0</td>\n",
       "      <td>6</td>\n",
       "      <td>6</td>\n",
       "      <td>1</td>\n",
       "      <td>0</td>\n",
       "    </tr>\n",
       "    <tr>\n",
       "      <th>...</th>\n",
       "      <td>...</td>\n",
       "      <td>...</td>\n",
       "      <td>...</td>\n",
       "      <td>...</td>\n",
       "      <td>...</td>\n",
       "      <td>...</td>\n",
       "      <td>...</td>\n",
       "      <td>...</td>\n",
       "      <td>...</td>\n",
       "      <td>...</td>\n",
       "      <td>...</td>\n",
       "      <td>...</td>\n",
       "      <td>...</td>\n",
       "      <td>...</td>\n",
       "      <td>...</td>\n",
       "      <td>...</td>\n",
       "      <td>...</td>\n",
       "      <td>...</td>\n",
       "      <td>...</td>\n",
       "      <td>...</td>\n",
       "      <td>...</td>\n",
       "    </tr>\n",
       "    <tr>\n",
       "      <th>100569</th>\n",
       "      <td>43-44</td>\n",
       "      <td>3</td>\n",
       "      <td>0</td>\n",
       "      <td>0</td>\n",
       "      <td>0</td>\n",
       "      <td>0</td>\n",
       "      <td>0</td>\n",
       "      <td>0</td>\n",
       "      <td>0</td>\n",
       "      <td>0</td>\n",
       "      <td>...</td>\n",
       "      <td>0</td>\n",
       "      <td>0</td>\n",
       "      <td>0</td>\n",
       "      <td>1</td>\n",
       "      <td>0</td>\n",
       "      <td>0</td>\n",
       "      <td>1</td>\n",
       "      <td>1</td>\n",
       "      <td>1</td>\n",
       "      <td>0</td>\n",
       "    </tr>\n",
       "    <tr>\n",
       "      <th>86857</th>\n",
       "      <td>18 - 34</td>\n",
       "      <td>1</td>\n",
       "      <td>0</td>\n",
       "      <td>0</td>\n",
       "      <td>0</td>\n",
       "      <td>0</td>\n",
       "      <td>0</td>\n",
       "      <td>0</td>\n",
       "      <td>0</td>\n",
       "      <td>0</td>\n",
       "      <td>...</td>\n",
       "      <td>0</td>\n",
       "      <td>0</td>\n",
       "      <td>1</td>\n",
       "      <td>1</td>\n",
       "      <td>0</td>\n",
       "      <td>0</td>\n",
       "      <td>17</td>\n",
       "      <td>16</td>\n",
       "      <td>2</td>\n",
       "      <td>1</td>\n",
       "    </tr>\n",
       "    <tr>\n",
       "      <th>156415</th>\n",
       "      <td>35-37</td>\n",
       "      <td>0</td>\n",
       "      <td>0</td>\n",
       "      <td>0</td>\n",
       "      <td>0</td>\n",
       "      <td>0</td>\n",
       "      <td>0</td>\n",
       "      <td>0</td>\n",
       "      <td>0</td>\n",
       "      <td>0</td>\n",
       "      <td>...</td>\n",
       "      <td>0</td>\n",
       "      <td>0</td>\n",
       "      <td>1</td>\n",
       "      <td>0</td>\n",
       "      <td>0</td>\n",
       "      <td>0</td>\n",
       "      <td>0</td>\n",
       "      <td>0</td>\n",
       "      <td>0</td>\n",
       "      <td>0</td>\n",
       "    </tr>\n",
       "    <tr>\n",
       "      <th>58418</th>\n",
       "      <td>18 - 34</td>\n",
       "      <td>0</td>\n",
       "      <td>0</td>\n",
       "      <td>0</td>\n",
       "      <td>0</td>\n",
       "      <td>0</td>\n",
       "      <td>0</td>\n",
       "      <td>0</td>\n",
       "      <td>0</td>\n",
       "      <td>0</td>\n",
       "      <td>...</td>\n",
       "      <td>0</td>\n",
       "      <td>0</td>\n",
       "      <td>1</td>\n",
       "      <td>1</td>\n",
       "      <td>0</td>\n",
       "      <td>0</td>\n",
       "      <td>8</td>\n",
       "      <td>4</td>\n",
       "      <td>2</td>\n",
       "      <td>1</td>\n",
       "    </tr>\n",
       "    <tr>\n",
       "      <th>138482</th>\n",
       "      <td>43-44</td>\n",
       "      <td>0</td>\n",
       "      <td>0</td>\n",
       "      <td>0</td>\n",
       "      <td>0</td>\n",
       "      <td>0</td>\n",
       "      <td>0</td>\n",
       "      <td>0</td>\n",
       "      <td>0</td>\n",
       "      <td>0</td>\n",
       "      <td>...</td>\n",
       "      <td>0</td>\n",
       "      <td>0</td>\n",
       "      <td>1</td>\n",
       "      <td>1</td>\n",
       "      <td>0</td>\n",
       "      <td>0</td>\n",
       "      <td>1</td>\n",
       "      <td>1</td>\n",
       "      <td>1</td>\n",
       "      <td>0</td>\n",
       "    </tr>\n",
       "  </tbody>\n",
       "</table>\n",
       "<p>109287 rows × 29 columns</p>\n",
       "</div>"
      ],
      "text/plain": [
       "       patient_age_at_treatment  total_number_of_previous_ivf_cycles  \\\n",
       "54320                   18 - 34                                    1   \n",
       "113003                  18 - 34                                    1   \n",
       "102142                  18 - 34                                    0   \n",
       "25450                   18 - 34                                    0   \n",
       "10759                   18 - 34                                    2   \n",
       "...                         ...                                  ...   \n",
       "100569                    43-44                                    3   \n",
       "86857                   18 - 34                                    1   \n",
       "156415                    35-37                                    0   \n",
       "58418                   18 - 34                                    0   \n",
       "138482                    43-44                                    0   \n",
       "\n",
       "        total_number_of_ivf_pregnancies  \\\n",
       "54320                                 1   \n",
       "113003                                1   \n",
       "102142                                0   \n",
       "25450                                 0   \n",
       "10759                                 0   \n",
       "...                                 ...   \n",
       "100569                                0   \n",
       "86857                                 0   \n",
       "156415                                0   \n",
       "58418                                 0   \n",
       "138482                                0   \n",
       "\n",
       "        total_number_of_live_births_conceived_through_ivf  \\\n",
       "54320                                                   1   \n",
       "113003                                                  1   \n",
       "102142                                                  0   \n",
       "25450                                                   0   \n",
       "10759                                                   0   \n",
       "...                                                   ...   \n",
       "100569                                                  0   \n",
       "86857                                                   0   \n",
       "156415                                                  0   \n",
       "58418                                                   0   \n",
       "138482                                                  0   \n",
       "\n",
       "        type_of_infertility_female_primary  \\\n",
       "54320                                    0   \n",
       "113003                                   0   \n",
       "102142                                   0   \n",
       "25450                                    0   \n",
       "10759                                    0   \n",
       "...                                    ...   \n",
       "100569                                   0   \n",
       "86857                                    0   \n",
       "156415                                   0   \n",
       "58418                                    0   \n",
       "138482                                   0   \n",
       "\n",
       "        type_of_infertility_female_secondary  \\\n",
       "54320                                      0   \n",
       "113003                                     0   \n",
       "102142                                     0   \n",
       "25450                                      0   \n",
       "10759                                      0   \n",
       "...                                      ...   \n",
       "100569                                     0   \n",
       "86857                                      0   \n",
       "156415                                     0   \n",
       "58418                                      0   \n",
       "138482                                     0   \n",
       "\n",
       "        type_of_infertility_male_primary  type_of_infertility_male_secondary  \\\n",
       "54320                                  0                                   0   \n",
       "113003                                 0                                   0   \n",
       "102142                                 0                                   0   \n",
       "25450                                  0                                   0   \n",
       "10759                                  0                                   0   \n",
       "...                                  ...                                 ...   \n",
       "100569                                 0                                   0   \n",
       "86857                                  0                                   0   \n",
       "156415                                 0                                   0   \n",
       "58418                                  0                                   0   \n",
       "138482                                 0                                   0   \n",
       "\n",
       "        type_of_infertility_couple_primary  \\\n",
       "54320                                    0   \n",
       "113003                                   0   \n",
       "102142                                   0   \n",
       "25450                                    0   \n",
       "10759                                    0   \n",
       "...                                    ...   \n",
       "100569                                   0   \n",
       "86857                                    0   \n",
       "156415                                   0   \n",
       "58418                                    0   \n",
       "138482                                   0   \n",
       "\n",
       "        type_of_infertility_couple_secondary  ...  \\\n",
       "54320                                      0  ...   \n",
       "113003                                     0  ...   \n",
       "102142                                     0  ...   \n",
       "25450                                      0  ...   \n",
       "10759                                      0  ...   \n",
       "...                                      ...  ...   \n",
       "100569                                     0  ...   \n",
       "86857                                      0  ...   \n",
       "156415                                     0  ...   \n",
       "58418                                      0  ...   \n",
       "138482                                     0  ...   \n",
       "\n",
       "        causes_of_infertility_partner_sperm_motility  \\\n",
       "54320                                              0   \n",
       "113003                                             0   \n",
       "102142                                             0   \n",
       "25450                                              0   \n",
       "10759                                              0   \n",
       "...                                              ...   \n",
       "100569                                             0   \n",
       "86857                                              0   \n",
       "156415                                             0   \n",
       "58418                                              0   \n",
       "138482                                             0   \n",
       "\n",
       "        cause_of_infertility_partner_sperm_immunological_factors  \\\n",
       "54320                                                   0          \n",
       "113003                                                  0          \n",
       "102142                                                  0          \n",
       "25450                                                   0          \n",
       "10759                                                   0          \n",
       "...                                                   ...          \n",
       "100569                                                  0          \n",
       "86857                                                   0          \n",
       "156415                                                  0          \n",
       "58418                                                   0          \n",
       "138482                                                  0          \n",
       "\n",
       "        stimulation_used  fresh_cycle  frozen_cycle  eggs_thawed  \\\n",
       "54320                  0            0             1            0   \n",
       "113003                 0            0             1            0   \n",
       "102142                 1            1             0            0   \n",
       "25450                  1            1             0            0   \n",
       "10759                  1            1             0            0   \n",
       "...                  ...          ...           ...          ...   \n",
       "100569                 0            1             0            0   \n",
       "86857                  1            1             0            0   \n",
       "156415                 1            0             0            0   \n",
       "58418                  1            1             0            0   \n",
       "138482                 1            1             0            0   \n",
       "\n",
       "        fresh_eggs_collected  eggs_mixed_with_partner_sperm  \\\n",
       "54320                      0                              0   \n",
       "113003                     0                              0   \n",
       "102142                    15                             15   \n",
       "25450                     24                              0   \n",
       "10759                      6                              6   \n",
       "...                      ...                            ...   \n",
       "100569                     1                              1   \n",
       "86857                     17                             16   \n",
       "156415                     0                              0   \n",
       "58418                      8                              4   \n",
       "138482                     1                              1   \n",
       "\n",
       "        embryos_transfered  live_birth_occurrence  \n",
       "54320                    2                      0  \n",
       "113003                   1                      0  \n",
       "102142                   0                      0  \n",
       "25450                    0                      0  \n",
       "10759                    1                      0  \n",
       "...                    ...                    ...  \n",
       "100569                   1                      0  \n",
       "86857                    2                      1  \n",
       "156415                   0                      0  \n",
       "58418                    2                      1  \n",
       "138482                   1                      0  \n",
       "\n",
       "[109287 rows x 29 columns]"
      ]
     },
     "execution_count": 10,
     "metadata": {},
     "output_type": "execute_result"
    }
   ],
   "source": [
    "dataset"
   ]
  },
  {
   "cell_type": "code",
   "execution_count": null,
   "metadata": {},
   "outputs": [],
   "source": []
  },
  {
   "cell_type": "markdown",
   "metadata": {},
   "source": [
    "## 3. EDA"
   ]
  },
  {
   "cell_type": "markdown",
   "metadata": {},
   "source": [
    "### 3.1. Cek Missing Value"
   ]
  },
  {
   "cell_type": "code",
   "execution_count": 11,
   "metadata": {},
   "outputs": [
    {
     "data": {
      "text/plain": [
       "patient_age_at_treatment                                    0\n",
       "total_number_of_previous_ivf_cycles                         0\n",
       "total_number_of_ivf_pregnancies                             0\n",
       "total_number_of_live_births_conceived_through_ivf           0\n",
       "type_of_infertility_female_primary                          0\n",
       "type_of_infertility_female_secondary                        0\n",
       "type_of_infertility_male_primary                            0\n",
       "type_of_infertility_male_secondary                          0\n",
       "type_of_infertility_couple_primary                          0\n",
       "type_of_infertility_couple_secondary                        0\n",
       "cause_of_infertility_tubal_disease                          0\n",
       "cause_of_infertility_ovulatory_disorder                     0\n",
       "cause_of_infertility_male_factor                            0\n",
       "cause_of_infertility_patient_unexplained                    0\n",
       "cause_of_infertility_endometriosis                          0\n",
       "cause_of_infertility_cervical_factors                       0\n",
       "cause_of_infertility_female_factors                         0\n",
       "cause_of_infertility_partner_sperm_concentration            0\n",
       "cause_of_infertility_partner_sperm_morphology               0\n",
       "causes_of_infertility_partner_sperm_motility                0\n",
       "cause_of_infertility_partner_sperm_immunological_factors    0\n",
       "stimulation_used                                            0\n",
       "fresh_cycle                                                 0\n",
       "frozen_cycle                                                0\n",
       "eggs_thawed                                                 0\n",
       "fresh_eggs_collected                                        0\n",
       "eggs_mixed_with_partner_sperm                               0\n",
       "embryos_transfered                                          0\n",
       "live_birth_occurrence                                       0\n",
       "dtype: int64"
      ]
     },
     "execution_count": 11,
     "metadata": {},
     "output_type": "execute_result"
    }
   ],
   "source": [
    "# cek null value\n",
    "dataset.isnull().sum()"
   ]
  },
  {
   "cell_type": "markdown",
   "metadata": {},
   "source": [
    "### 3.2. Cek Informasi Statistik"
   ]
  },
  {
   "cell_type": "markdown",
   "metadata": {},
   "source": [
    "#### 3.2.1. Cek Skewness"
   ]
  },
  {
   "cell_type": "code",
   "execution_count": 12,
   "metadata": {},
   "outputs": [
    {
     "data": {
      "text/plain": [
       "total_number_of_previous_ivf_cycles                           1.447935\n",
       "total_number_of_ivf_pregnancies                               2.792413\n",
       "total_number_of_live_births_conceived_through_ivf             2.848873\n",
       "type_of_infertility_female_primary                           16.607364\n",
       "type_of_infertility_female_secondary                         25.678105\n",
       "type_of_infertility_male_primary                             17.122563\n",
       "type_of_infertility_male_secondary                           26.160273\n",
       "type_of_infertility_couple_primary                           16.174931\n",
       "type_of_infertility_couple_secondary                         30.384000\n",
       "cause_of_infertility_tubal_disease                            2.574240\n",
       "cause_of_infertility_ovulatory_disorder                       2.407756\n",
       "cause_of_infertility_male_factor                              0.688332\n",
       "cause_of_infertility_patient_unexplained                      1.011109\n",
       "cause_of_infertility_endometriosis                            3.862264\n",
       "cause_of_infertility_cervical_factors                       190.858586\n",
       "cause_of_infertility_female_factors                           0.000000\n",
       "cause_of_infertility_partner_sperm_concentration             91.672914\n",
       "cause_of_infertility_partner_sperm_morphology               116.868516\n",
       "causes_of_infertility_partner_sperm_motility                233.756283\n",
       "cause_of_infertility_partner_sperm_immunological_factors      0.000000\n",
       "stimulation_used                                             -0.686255\n",
       "fresh_cycle                                                  -0.802409\n",
       "frozen_cycle                                                  1.168514\n",
       "eggs_thawed                                                  16.238015\n",
       "fresh_eggs_collected                                          1.321375\n",
       "eggs_mixed_with_partner_sperm                                 1.463208\n",
       "embryos_transfered                                            0.077539\n",
       "live_birth_occurrence                                         1.192642\n",
       "dtype: float64"
      ]
     },
     "execution_count": 12,
     "metadata": {},
     "output_type": "execute_result"
    }
   ],
   "source": [
    "# cek skewness\n",
    "dataset.skew(numeric_only = True)"
   ]
  },
  {
   "cell_type": "markdown",
   "metadata": {},
   "source": [
    "#### 3.2.2. Pemisahan Dataset berdasarkan Kelas"
   ]
  },
  {
   "cell_type": "code",
   "execution_count": 13,
   "metadata": {},
   "outputs": [],
   "source": [
    "# pisahkan menjadi 2 kelas untuk melihat apakah kita perlu melakukan imputasi berdasarkan kelas\n",
    "dataset_berhasil = dataset[dataset.live_birth_occurrence == 1].copy()\n",
    "dataset_gagal = dataset[dataset.live_birth_occurrence != 1].copy()"
   ]
  },
  {
   "cell_type": "code",
   "execution_count": 14,
   "metadata": {},
   "outputs": [
    {
     "data": {
      "text/html": [
       "<div>\n",
       "<style scoped>\n",
       "    .dataframe tbody tr th:only-of-type {\n",
       "        vertical-align: middle;\n",
       "    }\n",
       "\n",
       "    .dataframe tbody tr th {\n",
       "        vertical-align: top;\n",
       "    }\n",
       "\n",
       "    .dataframe thead th {\n",
       "        text-align: right;\n",
       "    }\n",
       "</style>\n",
       "<table border=\"1\" class=\"dataframe\">\n",
       "  <thead>\n",
       "    <tr style=\"text-align: right;\">\n",
       "      <th></th>\n",
       "      <th>total_number_of_previous_ivf_cycles</th>\n",
       "      <th>total_number_of_ivf_pregnancies</th>\n",
       "      <th>total_number_of_live_births_conceived_through_ivf</th>\n",
       "      <th>type_of_infertility_female_primary</th>\n",
       "      <th>type_of_infertility_female_secondary</th>\n",
       "      <th>type_of_infertility_male_primary</th>\n",
       "      <th>type_of_infertility_male_secondary</th>\n",
       "      <th>type_of_infertility_couple_primary</th>\n",
       "      <th>type_of_infertility_couple_secondary</th>\n",
       "      <th>cause_of_infertility_tubal_disease</th>\n",
       "      <th>...</th>\n",
       "      <th>causes_of_infertility_partner_sperm_motility</th>\n",
       "      <th>cause_of_infertility_partner_sperm_immunological_factors</th>\n",
       "      <th>stimulation_used</th>\n",
       "      <th>fresh_cycle</th>\n",
       "      <th>frozen_cycle</th>\n",
       "      <th>eggs_thawed</th>\n",
       "      <th>fresh_eggs_collected</th>\n",
       "      <th>eggs_mixed_with_partner_sperm</th>\n",
       "      <th>embryos_transfered</th>\n",
       "      <th>live_birth_occurrence</th>\n",
       "    </tr>\n",
       "  </thead>\n",
       "  <tbody>\n",
       "    <tr>\n",
       "      <th>count</th>\n",
       "      <td>26657.000000</td>\n",
       "      <td>26657.000000</td>\n",
       "      <td>26657.000000</td>\n",
       "      <td>26657.000000</td>\n",
       "      <td>26657.000000</td>\n",
       "      <td>26657.000000</td>\n",
       "      <td>26657.000000</td>\n",
       "      <td>26657.000000</td>\n",
       "      <td>26657.000000</td>\n",
       "      <td>26657.000000</td>\n",
       "      <td>...</td>\n",
       "      <td>26657.000000</td>\n",
       "      <td>26657.0</td>\n",
       "      <td>26657.000000</td>\n",
       "      <td>26657.000000</td>\n",
       "      <td>26657.000000</td>\n",
       "      <td>26657.000000</td>\n",
       "      <td>26657.000000</td>\n",
       "      <td>26657.000000</td>\n",
       "      <td>26657.000000</td>\n",
       "      <td>26657.0</td>\n",
       "    </tr>\n",
       "    <tr>\n",
       "      <th>mean</th>\n",
       "      <td>1.180816</td>\n",
       "      <td>0.201486</td>\n",
       "      <td>0.146341</td>\n",
       "      <td>0.002513</td>\n",
       "      <td>0.001463</td>\n",
       "      <td>0.002588</td>\n",
       "      <td>0.001163</td>\n",
       "      <td>0.002738</td>\n",
       "      <td>0.001013</td>\n",
       "      <td>0.111791</td>\n",
       "      <td>...</td>\n",
       "      <td>0.000075</td>\n",
       "      <td>0.0</td>\n",
       "      <td>0.640957</td>\n",
       "      <td>0.670668</td>\n",
       "      <td>0.294519</td>\n",
       "      <td>0.065761</td>\n",
       "      <td>6.959785</td>\n",
       "      <td>6.061822</td>\n",
       "      <td>1.370522</td>\n",
       "      <td>1.0</td>\n",
       "    </tr>\n",
       "    <tr>\n",
       "      <th>std</th>\n",
       "      <td>1.470734</td>\n",
       "      <td>0.463672</td>\n",
       "      <td>0.377673</td>\n",
       "      <td>0.050072</td>\n",
       "      <td>0.038222</td>\n",
       "      <td>0.050812</td>\n",
       "      <td>0.034082</td>\n",
       "      <td>0.052260</td>\n",
       "      <td>0.031810</td>\n",
       "      <td>0.315114</td>\n",
       "      <td>...</td>\n",
       "      <td>0.008662</td>\n",
       "      <td>0.0</td>\n",
       "      <td>0.479729</td>\n",
       "      <td>0.469979</td>\n",
       "      <td>0.455835</td>\n",
       "      <td>0.840921</td>\n",
       "      <td>7.029614</td>\n",
       "      <td>6.341154</td>\n",
       "      <td>0.573897</td>\n",
       "      <td>0.0</td>\n",
       "    </tr>\n",
       "    <tr>\n",
       "      <th>min</th>\n",
       "      <td>0.000000</td>\n",
       "      <td>0.000000</td>\n",
       "      <td>0.000000</td>\n",
       "      <td>0.000000</td>\n",
       "      <td>0.000000</td>\n",
       "      <td>0.000000</td>\n",
       "      <td>0.000000</td>\n",
       "      <td>0.000000</td>\n",
       "      <td>0.000000</td>\n",
       "      <td>0.000000</td>\n",
       "      <td>...</td>\n",
       "      <td>0.000000</td>\n",
       "      <td>0.0</td>\n",
       "      <td>0.000000</td>\n",
       "      <td>0.000000</td>\n",
       "      <td>0.000000</td>\n",
       "      <td>0.000000</td>\n",
       "      <td>0.000000</td>\n",
       "      <td>0.000000</td>\n",
       "      <td>0.000000</td>\n",
       "      <td>1.0</td>\n",
       "    </tr>\n",
       "    <tr>\n",
       "      <th>25%</th>\n",
       "      <td>0.000000</td>\n",
       "      <td>0.000000</td>\n",
       "      <td>0.000000</td>\n",
       "      <td>0.000000</td>\n",
       "      <td>0.000000</td>\n",
       "      <td>0.000000</td>\n",
       "      <td>0.000000</td>\n",
       "      <td>0.000000</td>\n",
       "      <td>0.000000</td>\n",
       "      <td>0.000000</td>\n",
       "      <td>...</td>\n",
       "      <td>0.000000</td>\n",
       "      <td>0.0</td>\n",
       "      <td>0.000000</td>\n",
       "      <td>0.000000</td>\n",
       "      <td>0.000000</td>\n",
       "      <td>0.000000</td>\n",
       "      <td>0.000000</td>\n",
       "      <td>0.000000</td>\n",
       "      <td>1.000000</td>\n",
       "      <td>1.0</td>\n",
       "    </tr>\n",
       "    <tr>\n",
       "      <th>50%</th>\n",
       "      <td>1.000000</td>\n",
       "      <td>0.000000</td>\n",
       "      <td>0.000000</td>\n",
       "      <td>0.000000</td>\n",
       "      <td>0.000000</td>\n",
       "      <td>0.000000</td>\n",
       "      <td>0.000000</td>\n",
       "      <td>0.000000</td>\n",
       "      <td>0.000000</td>\n",
       "      <td>0.000000</td>\n",
       "      <td>...</td>\n",
       "      <td>0.000000</td>\n",
       "      <td>0.0</td>\n",
       "      <td>1.000000</td>\n",
       "      <td>1.000000</td>\n",
       "      <td>0.000000</td>\n",
       "      <td>0.000000</td>\n",
       "      <td>6.000000</td>\n",
       "      <td>5.000000</td>\n",
       "      <td>1.000000</td>\n",
       "      <td>1.0</td>\n",
       "    </tr>\n",
       "    <tr>\n",
       "      <th>75%</th>\n",
       "      <td>2.000000</td>\n",
       "      <td>0.000000</td>\n",
       "      <td>0.000000</td>\n",
       "      <td>0.000000</td>\n",
       "      <td>0.000000</td>\n",
       "      <td>0.000000</td>\n",
       "      <td>0.000000</td>\n",
       "      <td>0.000000</td>\n",
       "      <td>0.000000</td>\n",
       "      <td>0.000000</td>\n",
       "      <td>...</td>\n",
       "      <td>0.000000</td>\n",
       "      <td>0.0</td>\n",
       "      <td>1.000000</td>\n",
       "      <td>1.000000</td>\n",
       "      <td>1.000000</td>\n",
       "      <td>0.000000</td>\n",
       "      <td>12.000000</td>\n",
       "      <td>10.000000</td>\n",
       "      <td>2.000000</td>\n",
       "      <td>1.0</td>\n",
       "    </tr>\n",
       "    <tr>\n",
       "      <th>max</th>\n",
       "      <td>6.000000</td>\n",
       "      <td>6.000000</td>\n",
       "      <td>3.000000</td>\n",
       "      <td>1.000000</td>\n",
       "      <td>1.000000</td>\n",
       "      <td>1.000000</td>\n",
       "      <td>1.000000</td>\n",
       "      <td>1.000000</td>\n",
       "      <td>1.000000</td>\n",
       "      <td>1.000000</td>\n",
       "      <td>...</td>\n",
       "      <td>1.000000</td>\n",
       "      <td>0.0</td>\n",
       "      <td>1.000000</td>\n",
       "      <td>1.000000</td>\n",
       "      <td>1.000000</td>\n",
       "      <td>23.000000</td>\n",
       "      <td>49.000000</td>\n",
       "      <td>51.000000</td>\n",
       "      <td>3.000000</td>\n",
       "      <td>1.0</td>\n",
       "    </tr>\n",
       "  </tbody>\n",
       "</table>\n",
       "<p>8 rows × 28 columns</p>\n",
       "</div>"
      ],
      "text/plain": [
       "       total_number_of_previous_ivf_cycles  total_number_of_ivf_pregnancies  \\\n",
       "count                         26657.000000                     26657.000000   \n",
       "mean                              1.180816                         0.201486   \n",
       "std                               1.470734                         0.463672   \n",
       "min                               0.000000                         0.000000   \n",
       "25%                               0.000000                         0.000000   \n",
       "50%                               1.000000                         0.000000   \n",
       "75%                               2.000000                         0.000000   \n",
       "max                               6.000000                         6.000000   \n",
       "\n",
       "       total_number_of_live_births_conceived_through_ivf  \\\n",
       "count                                       26657.000000   \n",
       "mean                                            0.146341   \n",
       "std                                             0.377673   \n",
       "min                                             0.000000   \n",
       "25%                                             0.000000   \n",
       "50%                                             0.000000   \n",
       "75%                                             0.000000   \n",
       "max                                             3.000000   \n",
       "\n",
       "       type_of_infertility_female_primary  \\\n",
       "count                        26657.000000   \n",
       "mean                             0.002513   \n",
       "std                              0.050072   \n",
       "min                              0.000000   \n",
       "25%                              0.000000   \n",
       "50%                              0.000000   \n",
       "75%                              0.000000   \n",
       "max                              1.000000   \n",
       "\n",
       "       type_of_infertility_female_secondary  type_of_infertility_male_primary  \\\n",
       "count                          26657.000000                      26657.000000   \n",
       "mean                               0.001463                          0.002588   \n",
       "std                                0.038222                          0.050812   \n",
       "min                                0.000000                          0.000000   \n",
       "25%                                0.000000                          0.000000   \n",
       "50%                                0.000000                          0.000000   \n",
       "75%                                0.000000                          0.000000   \n",
       "max                                1.000000                          1.000000   \n",
       "\n",
       "       type_of_infertility_male_secondary  type_of_infertility_couple_primary  \\\n",
       "count                        26657.000000                        26657.000000   \n",
       "mean                             0.001163                            0.002738   \n",
       "std                              0.034082                            0.052260   \n",
       "min                              0.000000                            0.000000   \n",
       "25%                              0.000000                            0.000000   \n",
       "50%                              0.000000                            0.000000   \n",
       "75%                              0.000000                            0.000000   \n",
       "max                              1.000000                            1.000000   \n",
       "\n",
       "       type_of_infertility_couple_secondary  \\\n",
       "count                          26657.000000   \n",
       "mean                               0.001013   \n",
       "std                                0.031810   \n",
       "min                                0.000000   \n",
       "25%                                0.000000   \n",
       "50%                                0.000000   \n",
       "75%                                0.000000   \n",
       "max                                1.000000   \n",
       "\n",
       "       cause_of_infertility_tubal_disease  ...  \\\n",
       "count                        26657.000000  ...   \n",
       "mean                             0.111791  ...   \n",
       "std                              0.315114  ...   \n",
       "min                              0.000000  ...   \n",
       "25%                              0.000000  ...   \n",
       "50%                              0.000000  ...   \n",
       "75%                              0.000000  ...   \n",
       "max                              1.000000  ...   \n",
       "\n",
       "       causes_of_infertility_partner_sperm_motility  \\\n",
       "count                                  26657.000000   \n",
       "mean                                       0.000075   \n",
       "std                                        0.008662   \n",
       "min                                        0.000000   \n",
       "25%                                        0.000000   \n",
       "50%                                        0.000000   \n",
       "75%                                        0.000000   \n",
       "max                                        1.000000   \n",
       "\n",
       "       cause_of_infertility_partner_sperm_immunological_factors  \\\n",
       "count                                            26657.0          \n",
       "mean                                                 0.0          \n",
       "std                                                  0.0          \n",
       "min                                                  0.0          \n",
       "25%                                                  0.0          \n",
       "50%                                                  0.0          \n",
       "75%                                                  0.0          \n",
       "max                                                  0.0          \n",
       "\n",
       "       stimulation_used   fresh_cycle  frozen_cycle   eggs_thawed  \\\n",
       "count      26657.000000  26657.000000  26657.000000  26657.000000   \n",
       "mean           0.640957      0.670668      0.294519      0.065761   \n",
       "std            0.479729      0.469979      0.455835      0.840921   \n",
       "min            0.000000      0.000000      0.000000      0.000000   \n",
       "25%            0.000000      0.000000      0.000000      0.000000   \n",
       "50%            1.000000      1.000000      0.000000      0.000000   \n",
       "75%            1.000000      1.000000      1.000000      0.000000   \n",
       "max            1.000000      1.000000      1.000000     23.000000   \n",
       "\n",
       "       fresh_eggs_collected  eggs_mixed_with_partner_sperm  \\\n",
       "count          26657.000000                   26657.000000   \n",
       "mean               6.959785                       6.061822   \n",
       "std                7.029614                       6.341154   \n",
       "min                0.000000                       0.000000   \n",
       "25%                0.000000                       0.000000   \n",
       "50%                6.000000                       5.000000   \n",
       "75%               12.000000                      10.000000   \n",
       "max               49.000000                      51.000000   \n",
       "\n",
       "       embryos_transfered  live_birth_occurrence  \n",
       "count        26657.000000                26657.0  \n",
       "mean             1.370522                    1.0  \n",
       "std              0.573897                    0.0  \n",
       "min              0.000000                    1.0  \n",
       "25%              1.000000                    1.0  \n",
       "50%              1.000000                    1.0  \n",
       "75%              2.000000                    1.0  \n",
       "max              3.000000                    1.0  \n",
       "\n",
       "[8 rows x 28 columns]"
      ]
     },
     "execution_count": 14,
     "metadata": {},
     "output_type": "execute_result"
    }
   ],
   "source": [
    "# kelas 1\n",
    "dataset_berhasil.describe()"
   ]
  },
  {
   "cell_type": "code",
   "execution_count": 15,
   "metadata": {},
   "outputs": [
    {
     "data": {
      "text/html": [
       "<div>\n",
       "<style scoped>\n",
       "    .dataframe tbody tr th:only-of-type {\n",
       "        vertical-align: middle;\n",
       "    }\n",
       "\n",
       "    .dataframe tbody tr th {\n",
       "        vertical-align: top;\n",
       "    }\n",
       "\n",
       "    .dataframe thead th {\n",
       "        text-align: right;\n",
       "    }\n",
       "</style>\n",
       "<table border=\"1\" class=\"dataframe\">\n",
       "  <thead>\n",
       "    <tr style=\"text-align: right;\">\n",
       "      <th></th>\n",
       "      <th>total_number_of_previous_ivf_cycles</th>\n",
       "      <th>total_number_of_ivf_pregnancies</th>\n",
       "      <th>total_number_of_live_births_conceived_through_ivf</th>\n",
       "      <th>type_of_infertility_female_primary</th>\n",
       "      <th>type_of_infertility_female_secondary</th>\n",
       "      <th>type_of_infertility_male_primary</th>\n",
       "      <th>type_of_infertility_male_secondary</th>\n",
       "      <th>type_of_infertility_couple_primary</th>\n",
       "      <th>type_of_infertility_couple_secondary</th>\n",
       "      <th>cause_of_infertility_tubal_disease</th>\n",
       "      <th>...</th>\n",
       "      <th>causes_of_infertility_partner_sperm_motility</th>\n",
       "      <th>cause_of_infertility_partner_sperm_immunological_factors</th>\n",
       "      <th>stimulation_used</th>\n",
       "      <th>fresh_cycle</th>\n",
       "      <th>frozen_cycle</th>\n",
       "      <th>eggs_thawed</th>\n",
       "      <th>fresh_eggs_collected</th>\n",
       "      <th>eggs_mixed_with_partner_sperm</th>\n",
       "      <th>embryos_transfered</th>\n",
       "      <th>live_birth_occurrence</th>\n",
       "    </tr>\n",
       "  </thead>\n",
       "  <tbody>\n",
       "    <tr>\n",
       "      <th>count</th>\n",
       "      <td>82630.000000</td>\n",
       "      <td>82630.000000</td>\n",
       "      <td>82630.000000</td>\n",
       "      <td>82630.000000</td>\n",
       "      <td>82630.000000</td>\n",
       "      <td>82630.000000</td>\n",
       "      <td>82630.000000</td>\n",
       "      <td>82630.000000</td>\n",
       "      <td>82630.000000</td>\n",
       "      <td>82630.000000</td>\n",
       "      <td>...</td>\n",
       "      <td>82630.0</td>\n",
       "      <td>82630.0</td>\n",
       "      <td>82630.000000</td>\n",
       "      <td>82630.000000</td>\n",
       "      <td>82630.000000</td>\n",
       "      <td>82630.000000</td>\n",
       "      <td>82630.000000</td>\n",
       "      <td>82630.000000</td>\n",
       "      <td>82630.000000</td>\n",
       "      <td>82630.0</td>\n",
       "    </tr>\n",
       "    <tr>\n",
       "      <th>mean</th>\n",
       "      <td>1.225185</td>\n",
       "      <td>0.174271</td>\n",
       "      <td>0.121167</td>\n",
       "      <td>0.003933</td>\n",
       "      <td>0.001525</td>\n",
       "      <td>0.003631</td>\n",
       "      <td>0.001549</td>\n",
       "      <td>0.004115</td>\n",
       "      <td>0.001101</td>\n",
       "      <td>0.103026</td>\n",
       "      <td>...</td>\n",
       "      <td>0.0</td>\n",
       "      <td>0.0</td>\n",
       "      <td>0.669152</td>\n",
       "      <td>0.691178</td>\n",
       "      <td>0.232688</td>\n",
       "      <td>0.055863</td>\n",
       "      <td>5.976728</td>\n",
       "      <td>4.766707</td>\n",
       "      <td>0.992388</td>\n",
       "      <td>0.0</td>\n",
       "    </tr>\n",
       "    <tr>\n",
       "      <th>std</th>\n",
       "      <td>1.563948</td>\n",
       "      <td>0.443609</td>\n",
       "      <td>0.349183</td>\n",
       "      <td>0.062592</td>\n",
       "      <td>0.039020</td>\n",
       "      <td>0.060146</td>\n",
       "      <td>0.039328</td>\n",
       "      <td>0.064014</td>\n",
       "      <td>0.033168</td>\n",
       "      <td>0.303994</td>\n",
       "      <td>...</td>\n",
       "      <td>0.0</td>\n",
       "      <td>0.0</td>\n",
       "      <td>0.470521</td>\n",
       "      <td>0.462011</td>\n",
       "      <td>0.422548</td>\n",
       "      <td>0.757669</td>\n",
       "      <td>7.156635</td>\n",
       "      <td>6.198736</td>\n",
       "      <td>0.825857</td>\n",
       "      <td>0.0</td>\n",
       "    </tr>\n",
       "    <tr>\n",
       "      <th>min</th>\n",
       "      <td>0.000000</td>\n",
       "      <td>0.000000</td>\n",
       "      <td>0.000000</td>\n",
       "      <td>0.000000</td>\n",
       "      <td>0.000000</td>\n",
       "      <td>0.000000</td>\n",
       "      <td>0.000000</td>\n",
       "      <td>0.000000</td>\n",
       "      <td>0.000000</td>\n",
       "      <td>0.000000</td>\n",
       "      <td>...</td>\n",
       "      <td>0.0</td>\n",
       "      <td>0.0</td>\n",
       "      <td>0.000000</td>\n",
       "      <td>0.000000</td>\n",
       "      <td>0.000000</td>\n",
       "      <td>0.000000</td>\n",
       "      <td>0.000000</td>\n",
       "      <td>0.000000</td>\n",
       "      <td>0.000000</td>\n",
       "      <td>0.0</td>\n",
       "    </tr>\n",
       "    <tr>\n",
       "      <th>25%</th>\n",
       "      <td>0.000000</td>\n",
       "      <td>0.000000</td>\n",
       "      <td>0.000000</td>\n",
       "      <td>0.000000</td>\n",
       "      <td>0.000000</td>\n",
       "      <td>0.000000</td>\n",
       "      <td>0.000000</td>\n",
       "      <td>0.000000</td>\n",
       "      <td>0.000000</td>\n",
       "      <td>0.000000</td>\n",
       "      <td>...</td>\n",
       "      <td>0.0</td>\n",
       "      <td>0.0</td>\n",
       "      <td>0.000000</td>\n",
       "      <td>0.000000</td>\n",
       "      <td>0.000000</td>\n",
       "      <td>0.000000</td>\n",
       "      <td>0.000000</td>\n",
       "      <td>0.000000</td>\n",
       "      <td>0.000000</td>\n",
       "      <td>0.0</td>\n",
       "    </tr>\n",
       "    <tr>\n",
       "      <th>50%</th>\n",
       "      <td>1.000000</td>\n",
       "      <td>0.000000</td>\n",
       "      <td>0.000000</td>\n",
       "      <td>0.000000</td>\n",
       "      <td>0.000000</td>\n",
       "      <td>0.000000</td>\n",
       "      <td>0.000000</td>\n",
       "      <td>0.000000</td>\n",
       "      <td>0.000000</td>\n",
       "      <td>0.000000</td>\n",
       "      <td>...</td>\n",
       "      <td>0.0</td>\n",
       "      <td>0.0</td>\n",
       "      <td>1.000000</td>\n",
       "      <td>1.000000</td>\n",
       "      <td>0.000000</td>\n",
       "      <td>0.000000</td>\n",
       "      <td>4.000000</td>\n",
       "      <td>2.000000</td>\n",
       "      <td>1.000000</td>\n",
       "      <td>0.0</td>\n",
       "    </tr>\n",
       "    <tr>\n",
       "      <th>75%</th>\n",
       "      <td>2.000000</td>\n",
       "      <td>0.000000</td>\n",
       "      <td>0.000000</td>\n",
       "      <td>0.000000</td>\n",
       "      <td>0.000000</td>\n",
       "      <td>0.000000</td>\n",
       "      <td>0.000000</td>\n",
       "      <td>0.000000</td>\n",
       "      <td>0.000000</td>\n",
       "      <td>0.000000</td>\n",
       "      <td>...</td>\n",
       "      <td>0.0</td>\n",
       "      <td>0.0</td>\n",
       "      <td>1.000000</td>\n",
       "      <td>1.000000</td>\n",
       "      <td>0.000000</td>\n",
       "      <td>0.000000</td>\n",
       "      <td>10.000000</td>\n",
       "      <td>8.000000</td>\n",
       "      <td>2.000000</td>\n",
       "      <td>0.0</td>\n",
       "    </tr>\n",
       "    <tr>\n",
       "      <th>max</th>\n",
       "      <td>6.000000</td>\n",
       "      <td>5.000000</td>\n",
       "      <td>5.000000</td>\n",
       "      <td>1.000000</td>\n",
       "      <td>1.000000</td>\n",
       "      <td>1.000000</td>\n",
       "      <td>1.000000</td>\n",
       "      <td>1.000000</td>\n",
       "      <td>1.000000</td>\n",
       "      <td>1.000000</td>\n",
       "      <td>...</td>\n",
       "      <td>0.0</td>\n",
       "      <td>0.0</td>\n",
       "      <td>1.000000</td>\n",
       "      <td>1.000000</td>\n",
       "      <td>1.000000</td>\n",
       "      <td>32.000000</td>\n",
       "      <td>51.000000</td>\n",
       "      <td>51.000000</td>\n",
       "      <td>3.000000</td>\n",
       "      <td>0.0</td>\n",
       "    </tr>\n",
       "  </tbody>\n",
       "</table>\n",
       "<p>8 rows × 28 columns</p>\n",
       "</div>"
      ],
      "text/plain": [
       "       total_number_of_previous_ivf_cycles  total_number_of_ivf_pregnancies  \\\n",
       "count                         82630.000000                     82630.000000   \n",
       "mean                              1.225185                         0.174271   \n",
       "std                               1.563948                         0.443609   \n",
       "min                               0.000000                         0.000000   \n",
       "25%                               0.000000                         0.000000   \n",
       "50%                               1.000000                         0.000000   \n",
       "75%                               2.000000                         0.000000   \n",
       "max                               6.000000                         5.000000   \n",
       "\n",
       "       total_number_of_live_births_conceived_through_ivf  \\\n",
       "count                                       82630.000000   \n",
       "mean                                            0.121167   \n",
       "std                                             0.349183   \n",
       "min                                             0.000000   \n",
       "25%                                             0.000000   \n",
       "50%                                             0.000000   \n",
       "75%                                             0.000000   \n",
       "max                                             5.000000   \n",
       "\n",
       "       type_of_infertility_female_primary  \\\n",
       "count                        82630.000000   \n",
       "mean                             0.003933   \n",
       "std                              0.062592   \n",
       "min                              0.000000   \n",
       "25%                              0.000000   \n",
       "50%                              0.000000   \n",
       "75%                              0.000000   \n",
       "max                              1.000000   \n",
       "\n",
       "       type_of_infertility_female_secondary  type_of_infertility_male_primary  \\\n",
       "count                          82630.000000                      82630.000000   \n",
       "mean                               0.001525                          0.003631   \n",
       "std                                0.039020                          0.060146   \n",
       "min                                0.000000                          0.000000   \n",
       "25%                                0.000000                          0.000000   \n",
       "50%                                0.000000                          0.000000   \n",
       "75%                                0.000000                          0.000000   \n",
       "max                                1.000000                          1.000000   \n",
       "\n",
       "       type_of_infertility_male_secondary  type_of_infertility_couple_primary  \\\n",
       "count                        82630.000000                        82630.000000   \n",
       "mean                             0.001549                            0.004115   \n",
       "std                              0.039328                            0.064014   \n",
       "min                              0.000000                            0.000000   \n",
       "25%                              0.000000                            0.000000   \n",
       "50%                              0.000000                            0.000000   \n",
       "75%                              0.000000                            0.000000   \n",
       "max                              1.000000                            1.000000   \n",
       "\n",
       "       type_of_infertility_couple_secondary  \\\n",
       "count                          82630.000000   \n",
       "mean                               0.001101   \n",
       "std                                0.033168   \n",
       "min                                0.000000   \n",
       "25%                                0.000000   \n",
       "50%                                0.000000   \n",
       "75%                                0.000000   \n",
       "max                                1.000000   \n",
       "\n",
       "       cause_of_infertility_tubal_disease  ...  \\\n",
       "count                        82630.000000  ...   \n",
       "mean                             0.103026  ...   \n",
       "std                              0.303994  ...   \n",
       "min                              0.000000  ...   \n",
       "25%                              0.000000  ...   \n",
       "50%                              0.000000  ...   \n",
       "75%                              0.000000  ...   \n",
       "max                              1.000000  ...   \n",
       "\n",
       "       causes_of_infertility_partner_sperm_motility  \\\n",
       "count                                       82630.0   \n",
       "mean                                            0.0   \n",
       "std                                             0.0   \n",
       "min                                             0.0   \n",
       "25%                                             0.0   \n",
       "50%                                             0.0   \n",
       "75%                                             0.0   \n",
       "max                                             0.0   \n",
       "\n",
       "       cause_of_infertility_partner_sperm_immunological_factors  \\\n",
       "count                                            82630.0          \n",
       "mean                                                 0.0          \n",
       "std                                                  0.0          \n",
       "min                                                  0.0          \n",
       "25%                                                  0.0          \n",
       "50%                                                  0.0          \n",
       "75%                                                  0.0          \n",
       "max                                                  0.0          \n",
       "\n",
       "       stimulation_used   fresh_cycle  frozen_cycle   eggs_thawed  \\\n",
       "count      82630.000000  82630.000000  82630.000000  82630.000000   \n",
       "mean           0.669152      0.691178      0.232688      0.055863   \n",
       "std            0.470521      0.462011      0.422548      0.757669   \n",
       "min            0.000000      0.000000      0.000000      0.000000   \n",
       "25%            0.000000      0.000000      0.000000      0.000000   \n",
       "50%            1.000000      1.000000      0.000000      0.000000   \n",
       "75%            1.000000      1.000000      0.000000      0.000000   \n",
       "max            1.000000      1.000000      1.000000     32.000000   \n",
       "\n",
       "       fresh_eggs_collected  eggs_mixed_with_partner_sperm  \\\n",
       "count          82630.000000                   82630.000000   \n",
       "mean               5.976728                       4.766707   \n",
       "std                7.156635                       6.198736   \n",
       "min                0.000000                       0.000000   \n",
       "25%                0.000000                       0.000000   \n",
       "50%                4.000000                       2.000000   \n",
       "75%               10.000000                       8.000000   \n",
       "max               51.000000                      51.000000   \n",
       "\n",
       "       embryos_transfered  live_birth_occurrence  \n",
       "count        82630.000000                82630.0  \n",
       "mean             0.992388                    0.0  \n",
       "std              0.825857                    0.0  \n",
       "min              0.000000                    0.0  \n",
       "25%              0.000000                    0.0  \n",
       "50%              1.000000                    0.0  \n",
       "75%              2.000000                    0.0  \n",
       "max              3.000000                    0.0  \n",
       "\n",
       "[8 rows x 28 columns]"
      ]
     },
     "execution_count": 15,
     "metadata": {},
     "output_type": "execute_result"
    }
   ],
   "source": [
    "# kelas 0\n",
    "dataset_gagal.describe()"
   ]
  },
  {
   "cell_type": "markdown",
   "metadata": {},
   "source": [
    "#### 3.2.3. Visualisasi untuk fitur total_number_of_previous_ivf_cycles"
   ]
  },
  {
   "cell_type": "code",
   "execution_count": 16,
   "metadata": {},
   "outputs": [
    {
     "data": {
      "image/png": "[encoded data removed]",
      "text/plain": [
       "<Figure size 432x288 with 1 Axes>"
      ]
     },
     "metadata": {
      "needs_background": "light"
     },
     "output_type": "display_data"
    }
   ],
   "source": [
    "sns.kdeplot(data = dataset, x = \"total_number_of_previous_ivf_cycles\")\n",
    "plt.axvline(dataset.total_number_of_previous_ivf_cycles.mean(), 0, 1, color = \"g\");"
   ]
  },
  {
   "cell_type": "code",
   "execution_count": 17,
   "metadata": {},
   "outputs": [
    {
     "data": {
      "image/png": "[encoded data removed]",
      "text/plain": [
       "<Figure size 432x288 with 1 Axes>"
      ]
     },
     "metadata": {
      "needs_background": "light"
     },
     "output_type": "display_data"
    }
   ],
   "source": [
    "sns.kdeplot(data = dataset, x = \"total_number_of_previous_ivf_cycles\", hue = \"live_birth_occurrence\")\n",
    "plt.axvline(dataset_gagal.total_number_of_previous_ivf_cycles.mean(), 0, 1, color = \"g\")\n",
    "plt.axvline(dataset_berhasil.total_number_of_previous_ivf_cycles.mean(), 0, 1, color = \"k\");"
   ]
  },
  {
   "cell_type": "markdown",
   "metadata": {},
   "source": [
    "#### 3.2.4. Visualisasi untuk fitur total_number_of_ivf_pregnancies"
   ]
  },
  {
   "cell_type": "code",
   "execution_count": 18,
   "metadata": {},
   "outputs": [
    {
     "data": {
      "image/png": "[encoded data removed]",
      "text/plain": [
       "<Figure size 432x288 with 1 Axes>"
      ]
     },
     "metadata": {
      "needs_background": "light"
     },
     "output_type": "display_data"
    }
   ],
   "source": [
    "sns.kdeplot(data = dataset, x = \"total_number_of_ivf_pregnancies\")\n",
    "plt.axvline(dataset.total_number_of_ivf_pregnancies.mean(), 0, 1, color = \"g\");"
   ]
  },
  {
   "cell_type": "code",
   "execution_count": 19,
   "metadata": {},
   "outputs": [
    {
     "data": {
      "image/png": "[encoded data removed]",
      "text/plain": [
       "<Figure size 432x288 with 1 Axes>"
      ]
     },
     "metadata": {
      "needs_background": "light"
     },
     "output_type": "display_data"
    }
   ],
   "source": [
    "sns.kdeplot(data = dataset, x = \"total_number_of_ivf_pregnancies\", hue = \"live_birth_occurrence\")\n",
    "plt.axvline(dataset_gagal.total_number_of_ivf_pregnancies.mean(), 0, 1, color = \"g\")\n",
    "plt.axvline(dataset_berhasil.total_number_of_ivf_pregnancies.mean(), 0, 1, color = \"k\");"
   ]
  },
  {
   "cell_type": "markdown",
   "metadata": {},
   "source": [
    "#### 3.2.5. Visualisasi untuk fitur total_number_of_live_births_conceived_through_ivf"
   ]
  },
  {
   "cell_type": "code",
   "execution_count": 20,
   "metadata": {},
   "outputs": [
    {
     "data": {
      "image/png": "[encoded data removed]",
      "text/plain": [
       "<Figure size 432x288 with 1 Axes>"
      ]
     },
     "metadata": {
      "needs_background": "light"
     },
     "output_type": "display_data"
    }
   ],
   "source": [
    "sns.kdeplot(data = dataset, x = \"total_number_of_live_births_conceived_through_ivf\")\n",
    "plt.axvline(dataset.total_number_of_live_births_conceived_through_ivf.mean(), 0, 1, color = \"g\");"
   ]
  },
  {
   "cell_type": "code",
   "execution_count": 21,
   "metadata": {},
   "outputs": [
    {
     "data": {
      "image/png": "[encoded data removed]",
      "text/plain": [
       "<Figure size 432x288 with 1 Axes>"
      ]
     },
     "metadata": {
      "needs_background": "light"
     },
     "output_type": "display_data"
    }
   ],
   "source": [
    "sns.kdeplot(data = dataset, x = \"total_number_of_live_births_conceived_through_ivf\", hue = \"live_birth_occurrence\")\n",
    "plt.axvline(dataset_gagal.total_number_of_live_births_conceived_through_ivf.mean(), 0, 1, color = \"g\")\n",
    "plt.axvline(dataset_berhasil.total_number_of_live_births_conceived_through_ivf.mean(), 0, 1, color = \"k\");"
   ]
  },
  {
   "cell_type": "markdown",
   "metadata": {},
   "source": [
    "#### 3.2.6. Visualisasi untuk fitur stimulation_used"
   ]
  },
  {
   "cell_type": "code",
   "execution_count": 22,
   "metadata": {},
   "outputs": [
    {
     "data": {
      "image/png": "[encoded data removed]",
      "text/plain": [
       "<Figure size 432x288 with 1 Axes>"
      ]
     },
     "metadata": {
      "needs_background": "light"
     },
     "output_type": "display_data"
    }
   ],
   "source": [
    "sns.kdeplot(data = dataset, x = \"stimulation_used\")\n",
    "plt.axvline(dataset.stimulation_used.mean(), 0, 1, color = \"g\");"
   ]
  },
  {
   "cell_type": "code",
   "execution_count": 23,
   "metadata": {},
   "outputs": [
    {
     "data": {
      "image/png": "[encoded data removed]",
      "text/plain": [
       "<Figure size 432x288 with 1 Axes>"
      ]
     },
     "metadata": {
      "needs_background": "light"
     },
     "output_type": "display_data"
    }
   ],
   "source": [
    "sns.kdeplot(data = dataset, x = \"stimulation_used\", hue = \"live_birth_occurrence\")\n",
    "plt.axvline(dataset_gagal.stimulation_used.mean(), 0, 1, color = \"g\")\n",
    "plt.axvline(dataset_berhasil.stimulation_used.mean(), 0, 1, color = \"k\");"
   ]
  },
  {
   "cell_type": "code",
   "execution_count": null,
   "metadata": {},
   "outputs": [],
   "source": []
  },
  {
   "cell_type": "markdown",
   "metadata": {},
   "source": [
    "#### 3.2.7. Visualisasi untuk fitur fresh_cycle"
   ]
  },
  {
   "cell_type": "code",
   "execution_count": 24,
   "metadata": {},
   "outputs": [
    {
     "data": {
      "image/png": "[encoded data removed]",
      "text/plain": [
       "<Figure size 432x288 with 1 Axes>"
      ]
     },
     "metadata": {
      "needs_background": "light"
     },
     "output_type": "display_data"
    }
   ],
   "source": [
    "sns.kdeplot(data = dataset, x = \"fresh_cycle\")\n",
    "plt.axvline(dataset.fresh_cycle.mean(), 0, 1, color = \"g\");"
   ]
  },
  {
   "cell_type": "code",
   "execution_count": 25,
   "metadata": {},
   "outputs": [
    {
     "data": {
      "image/png": "[encoded data removed]",
      "text/plain": [
       "<Figure size 432x288 with 1 Axes>"
      ]
     },
     "metadata": {
      "needs_background": "light"
     },
     "output_type": "display_data"
    }
   ],
   "source": [
    "sns.kdeplot(data = dataset, x = \"fresh_cycle\", hue = \"live_birth_occurrence\")\n",
    "plt.axvline(dataset_gagal.fresh_cycle.mean(), 0, 1, color = \"g\")\n",
    "plt.axvline(dataset_berhasil.fresh_cycle.mean(), 0, 1, color = \"k\");"
   ]
  },
  {
   "cell_type": "code",
   "execution_count": null,
   "metadata": {},
   "outputs": [],
   "source": []
  },
  {
   "cell_type": "markdown",
   "metadata": {},
   "source": [
    "#### 3.2.8. Visualisasi untuk fitur frozen_cycle"
   ]
  },
  {
   "cell_type": "code",
   "execution_count": 26,
   "metadata": {},
   "outputs": [
    {
     "data": {
      "image/png": "[encoded data removed]",
      "text/plain": [
       "<Figure size 432x288 with 1 Axes>"
      ]
     },
     "metadata": {
      "needs_background": "light"
     },
     "output_type": "display_data"
    }
   ],
   "source": [
    "sns.kdeplot(data = dataset, x = \"frozen_cycle\")\n",
    "plt.axvline(dataset.frozen_cycle.mean(), 0, 1, color = \"g\");"
   ]
  },
  {
   "cell_type": "code",
   "execution_count": 27,
   "metadata": {},
   "outputs": [
    {
     "data": {
      "image/png": "[encoded data removed]",
      "text/plain": [
       "<Figure size 432x288 with 1 Axes>"
      ]
     },
     "metadata": {
      "needs_background": "light"
     },
     "output_type": "display_data"
    }
   ],
   "source": [
    "sns.kdeplot(data = dataset, x = \"frozen_cycle\", hue = \"live_birth_occurrence\")\n",
    "plt.axvline(dataset_gagal.frozen_cycle.mean(), 0, 1, color = \"g\")\n",
    "plt.axvline(dataset_berhasil.frozen_cycle.mean(), 0, 1, color = \"k\");"
   ]
  },
  {
   "cell_type": "code",
   "execution_count": null,
   "metadata": {},
   "outputs": [],
   "source": []
  },
  {
   "cell_type": "markdown",
   "metadata": {},
   "source": [
    "#### 3.2.9. Visualisasi untuk fitur fresh_eggs_collected"
   ]
  },
  {
   "cell_type": "code",
   "execution_count": 28,
   "metadata": {},
   "outputs": [
    {
     "data": {
      "image/png": "[encoded data removed]",
      "text/plain": [
       "<Figure size 432x288 with 1 Axes>"
      ]
     },
     "metadata": {
      "needs_background": "light"
     },
     "output_type": "display_data"
    }
   ],
   "source": [
    "sns.kdeplot(data = dataset, x = \"fresh_eggs_collected\")\n",
    "plt.axvline(dataset.fresh_eggs_collected.mean(), 0, 1, color = \"g\");"
   ]
  },
  {
   "cell_type": "code",
   "execution_count": 29,
   "metadata": {},
   "outputs": [
    {
     "data": {
      "image/png": "[encoded data removed]",
      "text/plain": [
       "<Figure size 432x288 with 1 Axes>"
      ]
     },
     "metadata": {
      "needs_background": "light"
     },
     "output_type": "display_data"
    }
   ],
   "source": [
    "sns.kdeplot(data = dataset, x = \"fresh_eggs_collected\", hue = \"live_birth_occurrence\")\n",
    "plt.axvline(dataset_gagal.fresh_eggs_collected.mean(), 0, 1, color = \"g\")\n",
    "plt.axvline(dataset_berhasil.fresh_eggs_collected.mean(), 0, 1, color = \"k\");"
   ]
  },
  {
   "cell_type": "code",
   "execution_count": null,
   "metadata": {},
   "outputs": [],
   "source": []
  },
  {
   "cell_type": "markdown",
   "metadata": {},
   "source": [
    "#### 3.2.10. Visualisasi untuk fitur embryos_transfered"
   ]
  },
  {
   "cell_type": "code",
   "execution_count": 30,
   "metadata": {},
   "outputs": [
    {
     "data": {
      "image/png": "[encoded data removed]",
      "text/plain": [
       "<Figure size 432x288 with 1 Axes>"
      ]
     },
     "metadata": {
      "needs_background": "light"
     },
     "output_type": "display_data"
    }
   ],
   "source": [
    "sns.kdeplot(data = dataset, x = \"embryos_transfered\")\n",
    "plt.axvline(dataset.embryos_transfered.mean(), 0, 1, color = \"g\");"
   ]
  },
  {
   "cell_type": "code",
   "execution_count": 31,
   "metadata": {},
   "outputs": [
    {
     "data": {
      "image/png": "[encoded data removed]",
      "text/plain": [
       "<Figure size 432x288 with 1 Axes>"
      ]
     },
     "metadata": {
      "needs_background": "light"
     },
     "output_type": "display_data"
    }
   ],
   "source": [
    "sns.kdeplot(data = dataset, x = \"embryos_transfered\", hue = \"live_birth_occurrence\")\n",
    "plt.axvline(dataset_gagal.embryos_transfered.mean(), 0, 1, color = \"g\")\n",
    "plt.axvline(dataset_berhasil.embryos_transfered.mean(), 0, 1, color = \"k\");"
   ]
  },
  {
   "cell_type": "markdown",
   "metadata": {},
   "source": [
    "#### 3.2.11. Pearson Corrlation"
   ]
  },
  {
   "cell_type": "code",
   "execution_count": 35,
   "metadata": {},
   "outputs": [
    {
     "data": {
      "text/plain": [
       "<AxesSubplot:>"
      ]
     },
     "execution_count": 35,
     "metadata": {},
     "output_type": "execute_result"
    },
    {
     "data": {
      "image/png": "[encoded data removed]",
      "text/plain": [
       "<Figure size 432x288 with 2 Axes>"
      ]
     },
     "metadata": {
      "needs_background": "light"
     },
     "output_type": "display_data"
    }
   ],
   "source": [
    "sns.heatmap(dataset.corr())"
   ]
  },
  {
   "cell_type": "markdown",
   "metadata": {},
   "source": [
    "#### 3.2.12. T Test untuk total_number_of_previous_ivf_cycles"
   ]
  },
  {
   "cell_type": "code",
   "execution_count": 37,
   "metadata": {},
   "outputs": [
    {
     "data": {
      "text/plain": [
       "Ttest_indResult(statistic=-4.0856510051549, pvalue=4.398471750000221e-05)"
      ]
     },
     "execution_count": 37,
     "metadata": {},
     "output_type": "execute_result"
    }
   ],
   "source": [
    "# perform t-test untuk 2 variabel\n",
    "scs.ttest_ind(\n",
    "    dataset_berhasil[dataset_berhasil.total_number_of_previous_ivf_cycles.isnull() != True].total_number_of_previous_ivf_cycles,\n",
    "    dataset_gagal[dataset_gagal.total_number_of_previous_ivf_cycles.isnull() != True].total_number_of_previous_ivf_cycles\n",
    ")"
   ]
  },
  {
   "cell_type": "code",
   "execution_count": 38,
   "metadata": {},
   "outputs": [
    {
     "data": {
      "text/plain": [
       "-1.644867570147182"
      ]
     },
     "execution_count": 38,
     "metadata": {},
     "output_type": "execute_result"
    }
   ],
   "source": [
    "# nilai t critical untuk alpha 0.05\n",
    "scs.t.ppf(0.05, df = (len(dataset) - 2))"
   ]
  },
  {
   "cell_type": "code",
   "execution_count": 39,
   "metadata": {},
   "outputs": [],
   "source": [
    "# dengan nilai t-value < t-critical dan nilai p-value < 0.05 maka h0 di reject\n",
    "# mean antara kelas 0 dan kelas 1 untuk total_number_of_previous_ivf_cycles statistically significant"
   ]
  },
  {
   "cell_type": "code",
   "execution_count": null,
   "metadata": {},
   "outputs": [],
   "source": []
  },
  {
   "cell_type": "markdown",
   "metadata": {},
   "source": [
    "#### 3.2.13. T Test untuk total_number_of_ivf_pregnancies"
   ]
  },
  {
   "cell_type": "code",
   "execution_count": 40,
   "metadata": {},
   "outputs": [
    {
     "data": {
      "text/plain": [
       "Ttest_indResult(statistic=8.612878331408567, pvalue=7.217520246247352e-18)"
      ]
     },
     "execution_count": 40,
     "metadata": {},
     "output_type": "execute_result"
    }
   ],
   "source": [
    "# perform t-test untuk 2 variabel\n",
    "scs.ttest_ind(\n",
    "    dataset_berhasil[dataset_berhasil.total_number_of_ivf_pregnancies.isnull() != True].total_number_of_ivf_pregnancies,\n",
    "    dataset_gagal[dataset_gagal.total_number_of_ivf_pregnancies.isnull() != True].total_number_of_ivf_pregnancies\n",
    ")"
   ]
  },
  {
   "cell_type": "code",
   "execution_count": 41,
   "metadata": {},
   "outputs": [
    {
     "data": {
      "text/plain": [
       "-1.644867570147182"
      ]
     },
     "execution_count": 41,
     "metadata": {},
     "output_type": "execute_result"
    }
   ],
   "source": [
    "# nilai t critical untuk alpha 0.05\n",
    "scs.t.ppf(0.05, df = (len(dataset) - 2))"
   ]
  },
  {
   "cell_type": "code",
   "execution_count": null,
   "metadata": {},
   "outputs": [],
   "source": []
  },
  {
   "cell_type": "markdown",
   "metadata": {},
   "source": [
    "#### 3.2.14 T Test untuk total_number_of_live_births_conceived_through_ivf"
   ]
  },
  {
   "cell_type": "code",
   "execution_count": 43,
   "metadata": {},
   "outputs": [
    {
     "data": {
      "text/plain": [
       "Ttest_indResult(statistic=10.029359564211502, pvalue=1.1595199849060631e-23)"
      ]
     },
     "execution_count": 43,
     "metadata": {},
     "output_type": "execute_result"
    }
   ],
   "source": [
    "# perform t-test untuk 2 variabel\n",
    "scs.ttest_ind(\n",
    "    dataset_berhasil[dataset_berhasil.total_number_of_live_births_conceived_through_ivf.isnull() != True].total_number_of_live_births_conceived_through_ivf,\n",
    "    dataset_gagal[dataset_gagal.total_number_of_live_births_conceived_through_ivf.isnull() != True].total_number_of_live_births_conceived_through_ivf\n",
    ")"
   ]
  },
  {
   "cell_type": "code",
   "execution_count": 44,
   "metadata": {},
   "outputs": [
    {
     "data": {
      "text/plain": [
       "-1.644867570147182"
      ]
     },
     "execution_count": 44,
     "metadata": {},
     "output_type": "execute_result"
    }
   ],
   "source": [
    "# nilai t critical untuk alpha 0.05\n",
    "scs.t.ppf(0.05, df = (len(dataset) - 2))"
   ]
  },
  {
   "cell_type": "code",
   "execution_count": null,
   "metadata": {},
   "outputs": [],
   "source": []
  },
  {
   "cell_type": "markdown",
   "metadata": {},
   "source": [
    "#### 3.2.15 T Test untuk stimulation_used"
   ]
  },
  {
   "cell_type": "code",
   "execution_count": 46,
   "metadata": {},
   "outputs": [
    {
     "data": {
      "text/plain": [
       "Ttest_indResult(statistic=-8.466208141354794, pvalue=2.565902257067515e-17)"
      ]
     },
     "execution_count": 46,
     "metadata": {},
     "output_type": "execute_result"
    }
   ],
   "source": [
    "# perform t-test untuk 2 variabel\n",
    "scs.ttest_ind(\n",
    "    dataset_berhasil[dataset_berhasil.stimulation_used.isnull() != True].stimulation_used,\n",
    "    dataset_gagal[dataset_gagal.stimulation_used.isnull() != True].stimulation_used\n",
    ")"
   ]
  },
  {
   "cell_type": "code",
   "execution_count": 47,
   "metadata": {},
   "outputs": [
    {
     "data": {
      "text/plain": [
       "-1.644867570147182"
      ]
     },
     "execution_count": 47,
     "metadata": {},
     "output_type": "execute_result"
    }
   ],
   "source": [
    "# nilai t critical untuk alpha 0.05\n",
    "scs.t.ppf(0.05, df = (len(dataset) - 2))"
   ]
  },
  {
   "cell_type": "code",
   "execution_count": 48,
   "metadata": {},
   "outputs": [],
   "source": [
    "# dengan nilai t-value < t-critical dan nilai p-value < 0.05 maka h0 di reject\n",
    "# mean antara kelas 0 dan kelas 1 untuk stimulation_used statistically significant"
   ]
  },
  {
   "cell_type": "code",
   "execution_count": null,
   "metadata": {},
   "outputs": [],
   "source": []
  },
  {
   "cell_type": "markdown",
   "metadata": {},
   "source": [
    "#### 3.2.16 T Test untuk fresh_cycle"
   ]
  },
  {
   "cell_type": "code",
   "execution_count": 50,
   "metadata": {},
   "outputs": [
    {
     "data": {
      "text/plain": [
       "Ttest_indResult(statistic=-6.275620775540324, pvalue=3.495418582446023e-10)"
      ]
     },
     "execution_count": 50,
     "metadata": {},
     "output_type": "execute_result"
    }
   ],
   "source": [
    "# perform t-test untuk 2 variabel\n",
    "scs.ttest_ind(\n",
    "    dataset_berhasil[dataset_berhasil.fresh_cycle.isnull() != True].fresh_cycle,\n",
    "    dataset_gagal[dataset_gagal.fresh_cycle.isnull() != True].fresh_cycle\n",
    ")"
   ]
  },
  {
   "cell_type": "code",
   "execution_count": 51,
   "metadata": {},
   "outputs": [
    {
     "data": {
      "text/plain": [
       "-1.644867570147182"
      ]
     },
     "execution_count": 51,
     "metadata": {},
     "output_type": "execute_result"
    }
   ],
   "source": [
    "# nilai t critical untuk alpha 0.05\n",
    "scs.t.ppf(0.05, df = (len(dataset) - 2))"
   ]
  },
  {
   "cell_type": "code",
   "execution_count": 52,
   "metadata": {},
   "outputs": [],
   "source": [
    "# dengan nilai t-value < t-critical dan nilai p-value < 0.05 maka h0 di reject\n",
    "# mean antara kelas 0 dan kelas 1 untuk fresh_cycle statistically significant"
   ]
  },
  {
   "cell_type": "code",
   "execution_count": null,
   "metadata": {},
   "outputs": [],
   "source": []
  },
  {
   "cell_type": "markdown",
   "metadata": {},
   "source": [
    "#### 3.2.17 T Test untuk frozen_cycle"
   ]
  },
  {
   "cell_type": "code",
   "execution_count": 53,
   "metadata": {},
   "outputs": [
    {
     "data": {
      "text/plain": [
       "Ttest_indResult(statistic=20.371300410816744, pvalue=4.461276821330057e-92)"
      ]
     },
     "execution_count": 53,
     "metadata": {},
     "output_type": "execute_result"
    }
   ],
   "source": [
    "# perform t-test untuk 2 variabel\n",
    "scs.ttest_ind(\n",
    "    dataset_berhasil[dataset_berhasil.frozen_cycle.isnull() != True].frozen_cycle,\n",
    "    dataset_gagal[dataset_gagal.frozen_cycle.isnull() != True].frozen_cycle\n",
    ")"
   ]
  },
  {
   "cell_type": "code",
   "execution_count": 54,
   "metadata": {},
   "outputs": [
    {
     "data": {
      "text/plain": [
       "-1.644867570147182"
      ]
     },
     "execution_count": 54,
     "metadata": {},
     "output_type": "execute_result"
    }
   ],
   "source": [
    "# nilai t critical untuk alpha 0.05\n",
    "scs.t.ppf(0.05, df = (len(dataset) - 2))"
   ]
  },
  {
   "cell_type": "code",
   "execution_count": null,
   "metadata": {},
   "outputs": [],
   "source": []
  },
  {
   "cell_type": "markdown",
   "metadata": {},
   "source": [
    "### 3.3. Cek Imbalance Label"
   ]
  },
  {
   "cell_type": "code",
   "execution_count": 55,
   "metadata": {},
   "outputs": [
    {
     "data": {
      "text/plain": [
       "0    82630\n",
       "1    26657\n",
       "Name: live_birth_occurrence, dtype: int64"
      ]
     },
     "execution_count": 55,
     "metadata": {},
     "output_type": "execute_result"
    }
   ],
   "source": [
    "dataset.live_birth_occurrence.value_counts()"
   ]
  },
  {
   "cell_type": "code",
   "execution_count": 57,
   "metadata": {},
   "outputs": [
    {
     "data": {
      "text/plain": [
       "<AxesSubplot:xlabel='live_birth_occurrence', ylabel='Count'>"
      ]
     },
     "execution_count": 57,
     "metadata": {},
     "output_type": "execute_result"
    },
    {
     "data": {
      "image/png": "[encoded data removed]",
      "text/plain": [
       "<Figure size 432x288 with 1 Axes>"
      ]
     },
     "metadata": {
      "needs_background": "light"
     },
     "output_type": "display_data"
    }
   ],
   "source": [
    "sns.histplot(data = dataset, x = \"live_birth_occurrence\", hue = \"live_birth_occurrence\")"
   ]
  },
  {
   "cell_type": "code",
   "execution_count": null,
   "metadata": {},
   "outputs": [],
   "source": []
  },
  {
   "cell_type": "markdown",
   "metadata": {},
   "source": [
    "### 3.4. Cek Outliers"
   ]
  },
  {
   "cell_type": "code",
   "execution_count": 58,
   "metadata": {},
   "outputs": [
    {
     "data": {
      "text/plain": [
       "<AxesSubplot:xlabel='total_number_of_previous_ivf_cycles'>"
      ]
     },
     "execution_count": 58,
     "metadata": {},
     "output_type": "execute_result"
    },
    {
     "data": {
      "image/png": "[encoded data removed]",
      "text/plain": [
       "<Figure size 432x288 with 1 Axes>"
      ]
     },
     "metadata": {
      "needs_background": "light"
     },
     "output_type": "display_data"
    }
   ],
   "source": [
    "sns.boxplot(data = dataset, x = \"total_number_of_previous_ivf_cycles\")"
   ]
  },
  {
   "cell_type": "code",
   "execution_count": 59,
   "metadata": {},
   "outputs": [
    {
     "data": {
      "text/plain": [
       "<AxesSubplot:xlabel='total_number_of_ivf_pregnancies'>"
      ]
     },
     "execution_count": 59,
     "metadata": {},
     "output_type": "execute_result"
    },
    {
     "data": {
      "image/png": "[encoded data removed]",
      "text/plain": [
       "<Figure size 432x288 with 1 Axes>"
      ]
     },
     "metadata": {
      "needs_background": "light"
     },
     "output_type": "display_data"
    }
   ],
   "source": [
    "sns.boxplot(data = dataset, x = \"total_number_of_ivf_pregnancies\")"
   ]
  },
  {
   "cell_type": "code",
   "execution_count": 60,
   "metadata": {},
   "outputs": [
    {
     "data": {
      "text/plain": [
       "<AxesSubplot:xlabel='total_number_of_live_births_conceived_through_ivf'>"
      ]
     },
     "execution_count": 60,
     "metadata": {},
     "output_type": "execute_result"
    },
    {
     "data": {
      "image/png": "[encoded data removed]",
      "text/plain": [
       "<Figure size 432x288 with 1 Axes>"
      ]
     },
     "metadata": {
      "needs_background": "light"
     },
     "output_type": "display_data"
    }
   ],
   "source": [
    "sns.boxplot(data = dataset, x = \"total_number_of_live_births_conceived_through_ivf\")"
   ]
  },
  {
   "cell_type": "code",
   "execution_count": null,
   "metadata": {},
   "outputs": [],
   "source": []
  },
  {
   "cell_type": "code",
   "execution_count": null,
   "metadata": {},
   "outputs": [],
   "source": []
  }
 ],
 "metadata": {
  "kernelspec": {
   "display_name": "Python 3",
   "language": "python",
   "name": "python3"
  },
  "language_info": {
   "codemirror_mode": {
    "name": "ipython",
    "version": 3
   },
   "file_extension": ".py",
   "mimetype": "text/x-python",
   "name": "python",
   "nbconvert_exporter": "python",
   "pygments_lexer": "ipython3",
   "version": "3.8.5"
  },
  "vscode": {
   "interpreter": {
    "hash": "f6b5ba345f865ccab9c1d1dba86e394ca61d67366183ce7e182371ee31a721f6"
   }
  }
 },
 "nbformat": 4,
 "nbformat_minor": 4
}
